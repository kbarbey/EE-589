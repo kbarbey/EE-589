{
 "cells": [
  {
   "attachments": {},
   "cell_type": "markdown",
   "metadata": {},
   "source": [
    "# Examples with the Sunpy package\n",
    "\n",
    "## Goals\n",
    "\n",
    "- Get used to it.\n",
    "- Prepare the terrain for the sunspot to solar system locator routine.\n",
    "- Access solar events"
   ]
  },
  {
   "cell_type": "code",
   "execution_count": 78,
   "metadata": {},
   "outputs": [
    {
     "name": "stdout",
     "output_type": "stream",
     "text": [
      "1 Results from 1 Provider:\n",
      "\n",
      "4 Results from the HEKClient:\n",
      "\n",
      "                                                            gs_thumburl                                                             ...\n",
      "----------------------------------------------------------------------------------------------------------------------------------- ...\n",
      " http://sdowww.lmsal.com/sdomedia/ssw/media/ssw/ssw_client/data/ssw_service_220830_104147_1898/www/ssw_cutout_304_context_thumb.gif ...\n",
      "http://sdowww.lmsal.com/sdomedia/ssw/media/ssw/ssw_client/data/ssw_service_230225_071103_41466/www/ssw_cutout_304_context_thumb.gif ...\n",
      "http://sdowww.lmsal.com/sdomedia/ssw/media/ssw/ssw_client/data/ssw_service_220830_112146_29253/www/ssw_cutout_304_context_thumb.gif ...\n",
      "http://sdowww.lmsal.com/sdomedia/ssw/media/ssw/ssw_client/data/ssw_service_220830_152006_35994/www/ssw_cutout_304_context_thumb.gif ...\n",
      "\n",
      "\n"
     ]
    }
   ],
   "source": [
    "from sunpy.net import attrs as a\n",
    "from sunpy.net import Fido\n",
    "tstart = '2022/08/30 16:00:00'\n",
    "tend = '2022/08/31 03:00:00'\n",
    "event_type = 'ER'\n",
    "result = Fido.search(a.Time(tstart,tend), a.hek.EventType(event_type))\n",
    "print(len(result), result)"
   ]
  },
  {
   "cell_type": "code",
   "execution_count": 79,
   "metadata": {},
   "outputs": [
    {
     "name": "stdout",
     "output_type": "stream",
     "text": [
      "   event_coord1   \n",
      "------------------\n",
      "             762.0\n",
      " 855.1129760742188\n",
      "             786.0\n",
      "-946.7999877929688\n",
      "   event_coord2   \n",
      "------------------\n",
      "-572.4000244140625\n",
      "-482.6319885253906\n",
      "-548.4000244140625\n",
      " 339.6000061035156\n",
      "event_coordsys\n",
      "--------------\n",
      "  UTC-HPC-TOPO\n",
      "  UTC-HPC-TOPO\n",
      "  UTC-HPC-TOPO\n",
      "  UTC-HPC-TOPO\n",
      "obs_observatory\n",
      "---------------\n",
      "            SDO\n",
      "            SDO\n",
      "            SDO\n",
      "            SDO\n"
     ]
    }
   ],
   "source": [
    "print(result[\"hek\"]['event_coord1'])\n",
    "print(result[\"hek\"]['event_coord2'])\n",
    "print(result[\"hek\"]['event_coordsys'])\n",
    "print(result[\"hek\"]['obs_observatory'])\n",
    "\n"
   ]
  },
  {
   "cell_type": "code",
   "execution_count": 119,
   "metadata": {},
   "outputs": [
    {
     "name": "stdout",
     "output_type": "stream",
     "text": [
      "<Barycentric BCRS position and velocity at date t center=0 target=299>\n",
      "(<Angle 07h 16m 13.66s>, <Angle +24deg 01' 16.1\">, <Distance 0.718214 au>)\n",
      "07h 16m 13.66s +24deg 01' 16.1\"\n",
      "<SkyCoord (ICRS): (ra, dec) in deg\n",
      "    (109.05692532, 24.02114302)>\n"
     ]
    }
   ],
   "source": [
    "import matplotlib.pyplot as plt\n",
    "import numpy as np\n",
    "from skyfield.api import load\n",
    "from skyfield import units\n",
    "from astropy.time import Time\n",
    "from astropy import units as u\n",
    "from datetime import timedelta\n",
    "from astropy.coordinates import SkyCoord\n",
    "from sunpy.coordinates import frames\n",
    "# Create a timescale and initialise beginning and end time.\n",
    "ts = load.timescale()\n",
    "t = ts.utc(2012, 3, 6)\n",
    "\n",
    "# Load the JPL ephemeris DE421 (covers 1900-2050).\n",
    "eph = load('../de421.bsp')\n",
    "sun, earth, venus = eph['sun'], eph['earth'], eph['venus']\n",
    "\n",
    "# Compute the position of Venus in the ICRS frame.\n",
    "venus_positions = []\n",
    "venus_times = []\n",
    "venus_pos = venus.at(t)\n",
    "print(venus_pos)\n",
    "ra, dec, distance = venus_pos.radec()\n",
    "print(venus_pos.radec())\n",
    "print(ra, dec)\n",
    "dec = dec.to(u.deg)\n",
    "ra = ra.to(u.deg)\n",
    "distance = distance.to(u.au)\n",
    "venus_times.append(t)\n",
    "c = SkyCoord(ra, dec, frame='icrs')\n",
    "print(c)\n",
    "\n",
    "# Compute the position of Venus in the Heliographic stonyhurst frame.\n",
    "#print(c.transform_to(frames.Helioprojective(observer='earth'))) #this is cartesian. We need angles to be sure that this corresponds to the sunspot."
   ]
  },
  {
   "cell_type": "code",
   "execution_count": 115,
   "metadata": {},
   "outputs": [
    {
     "name": "stdout",
     "output_type": "stream",
     "text": [
      "<SkyCoord (ICRS): (ra, dec) in deg\n",
      "    (316.6326902, -19.54388683)>\n"
     ]
    }
   ],
   "source": [
    "print(c)"
   ]
  },
  {
   "cell_type": "code",
   "execution_count": 121,
   "metadata": {},
   "outputs": [
    {
     "name": "stdout",
     "output_type": "stream",
     "text": [
      "   Mission            Table                         Table Description               \n",
      "------------- ---------------------- -----------------------------------------------\n",
      "CTASST1M-REV1     cta_sst1m_rev1_run                                             Run\n",
      "    FACT-REV1          fact_rev1_run                                             Run\n",
      "INTEGRAL-REV3     integral_rev3_prop                                       Proposals\n",
      "INTEGRAL-REV3 integral_rev3_prop_obs Proposal Information and Observation Parameters\n",
      "INTEGRAL-REV3      integral_rev3_scw                       SCW - Science Window Data\n"
     ]
    },
    {
     "name": "stderr",
     "output_type": "stream",
     "text": [
      "WARNING: InputWarning: Coordinate string is being interpreted as an ICRS coordinate provided in degrees. [astroquery.utils.commons]\n"
     ]
    },
    {
     "name": "stdout",
     "output_type": "stream",
     "text": [
      "None\n"
     ]
    },
    {
     "name": "stderr",
     "output_type": "stream",
     "text": [
      "WARNING: NoResultsWarning: No matching rows were found in the query. [astroquery.heasarc.core]\n"
     ]
    }
   ],
   "source": [
    "import astroquery.heasarc\n",
    "from astroquery.heasarc import Heasarc, Conf\n",
    "from astropy.io import fits\n",
    "from scipy import stats\n",
    "import astropy.table\n",
    "\n",
    "Heasarc = astroquery.heasarc.Heasarc()\n",
    "Conf.server.set('https://www.isdc.unige.ch/browse/w3query.pl')\n",
    "table = Heasarc.query_mission_list()\n",
    "table.pprint(max_width=120)\n",
    "\n",
    "def get_scw_list(coord,radius,start_date,end_date ):\n",
    "    R = Heasarc.query_region(\n",
    "            coord,\n",
    "            mission = 'integral_rev3_scw',\n",
    "            radius=radius,\n",
    "            time = start_date + ' .. ' + end_date,\n",
    "            good_isgri = \">1000\",\n",
    "        )\n",
    "    \n",
    "assert astroquery.__version__ >= '0.4.2.dev6611'\n",
    "\n",
    "# it means it's our fork\n",
    "assert 'isdc' in astroquery.heasarc.Conf.server.cfgtype\n",
    "\n",
    "radius = '15 degree'\n",
    "time = '2012-03-05T00:00:00'\n",
    "delta_time = '2012-03-08T00:00:00'\n",
    "scw_list = get_scw_list(c,radius,time,delta_time)\n",
    "print(scw_list)"
   ]
  }
 ],
 "metadata": {
  "kernelspec": {
   "display_name": "spacetech_env",
   "language": "python",
   "name": "python3"
  },
  "language_info": {
   "codemirror_mode": {
    "name": "ipython",
    "version": 3
   },
   "file_extension": ".py",
   "mimetype": "text/x-python",
   "name": "python",
   "nbconvert_exporter": "python",
   "pygments_lexer": "ipython3",
   "version": "3.11.0"
  },
  "orig_nbformat": 4
 },
 "nbformat": 4,
 "nbformat_minor": 2
}
