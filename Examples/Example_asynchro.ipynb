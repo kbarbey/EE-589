{
 "cells": [
  {
   "attachments": {},
   "cell_type": "markdown",
   "metadata": {},
   "source": [
    "# Example of asynchronous request"
   ]
  },
  {
   "cell_type": "code",
   "execution_count": 1,
   "metadata": {},
   "outputs": [],
   "source": [
    "#Let's try the second part of the tutorial if we are more lucky.\n",
    "#A few input parameters\n",
    "osa_version=\"OSA10.2\"\n",
    "source_name=\"Crab\"\n",
    "nscw=10\n",
    "start_year=2004\n",
    "end_year=2006\n",
    "systematic_fraction = 0.01\n",
    "token=''"
   ]
  },
  {
   "attachments": {},
   "cell_type": "markdown",
   "metadata": {},
   "source": [
    "Token identification"
   ]
  },
  {
   "cell_type": "code",
   "execution_count": 2,
   "metadata": {},
   "outputs": [],
   "source": [
    "import logging\n",
    "logging.getLogger().setLevel(logging.INFO)\n",
    "logging.getLogger('oda_api').addHandler(logging.StreamHandler())\n",
    "import getpass\n",
    "token = getpass.getpass('Insert the token')"
   ]
  },
  {
   "cell_type": "code",
   "execution_count": 2,
   "metadata": {},
   "outputs": [
    {
     "ename": "RuntimeError",
     "evalue": "provided token is None",
     "output_type": "error",
     "traceback": [
      "\u001b[1;31m---------------------------------------------------------------------------\u001b[0m",
      "\u001b[1;31mRuntimeError\u001b[0m                              Traceback (most recent call last)",
      "Cell \u001b[1;32mIn[2], line 3\u001b[0m\n\u001b[0;32m      1\u001b[0m \u001b[39mimport\u001b[39;00m \u001b[39moda_api\u001b[39;00m\u001b[39m.\u001b[39;00m\u001b[39mtoken\u001b[39;00m\n\u001b[0;32m      2\u001b[0m token \u001b[39m=\u001b[39m oda_api\u001b[39m.\u001b[39mtoken\u001b[39m.\u001b[39mdiscover_token()\n\u001b[1;32m----> 3\u001b[0m oda_api\u001b[39m.\u001b[39;49mtoken\u001b[39m.\u001b[39;49mdecode_oda_token(token)\n",
      "File \u001b[1;32mc:\\Users\\kentb\\miniconda3\\envs\\spacetech_env\\Lib\\site-packages\\oda_api\\token.py:40\u001b[0m, in \u001b[0;36mdecode_oda_token\u001b[1;34m(token, secret_key, allow_invalid)\u001b[0m\n\u001b[0;32m     38\u001b[0m \u001b[39mdef\u001b[39;00m \u001b[39mdecode_oda_token\u001b[39m(token: \u001b[39mstr\u001b[39m, secret_key\u001b[39m=\u001b[39m\u001b[39mNone\u001b[39;00m, allow_invalid\u001b[39m=\u001b[39m\u001b[39mFalse\u001b[39;00m) \u001b[39m-\u001b[39m\u001b[39m>\u001b[39m \u001b[39mdict\u001b[39m:\n\u001b[0;32m     39\u001b[0m     \u001b[39mif\u001b[39;00m token \u001b[39mis\u001b[39;00m \u001b[39mNone\u001b[39;00m:\n\u001b[1;32m---> 40\u001b[0m         \u001b[39mraise\u001b[39;00m \u001b[39mRuntimeError\u001b[39;00m(\u001b[39m'\u001b[39m\u001b[39mprovided token is None\u001b[39m\u001b[39m'\u001b[39m)\n\u001b[0;32m     42\u001b[0m     \u001b[39mif\u001b[39;00m jwt \u001b[39mis\u001b[39;00m \u001b[39mNone\u001b[39;00m:\n\u001b[0;32m     43\u001b[0m         logger\u001b[39m.\u001b[39minfo(\u001b[39m\"\u001b[39m\u001b[39mdecoding token without jwt\u001b[39m\u001b[39m\"\u001b[39m)\n",
      "\u001b[1;31mRuntimeError\u001b[0m: provided token is None"
     ]
    }
   ],
   "source": [
    "import oda_api.token\n",
    "token = oda_api.token.discover_token()\n",
    "oda_api.token.decode_oda_token(token)"
   ]
  }
 ],
 "metadata": {
  "kernelspec": {
   "display_name": "spacetech_env",
   "language": "python",
   "name": "python3"
  },
  "language_info": {
   "codemirror_mode": {
    "name": "ipython",
    "version": 3
   },
   "file_extension": ".py",
   "mimetype": "text/x-python",
   "name": "python",
   "nbconvert_exporter": "python",
   "pygments_lexer": "ipython3",
   "version": "3.11.0"
  },
  "orig_nbformat": 4,
  "vscode": {
   "interpreter": {
    "hash": "e8f5878e42daedcbdd39a84cefee199a00c4b7d02e3211bdbff4b5f56253d835"
   }
  }
 },
 "nbformat": 4,
 "nbformat_minor": 2
}
