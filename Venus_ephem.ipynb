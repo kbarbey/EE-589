{
 "cells": [
  {
   "attachments": {},
   "cell_type": "markdown",
   "metadata": {},
   "source": [
    "### Let's try finding Venus' ephemerides in the ICRF coordinate system."
   ]
  },
  {
   "attachments": {},
   "cell_type": "markdown",
   "metadata": {},
   "source": [
    "Small test here:"
   ]
  },
  {
   "cell_type": "code",
   "execution_count": 29,
   "metadata": {},
   "outputs": [
    {
     "name": "stdout",
     "output_type": "stream",
     "text": [
      "A.D. 2011-Aug-18 10:00:00.0000 UTC\n"
     ]
    }
   ],
   "source": [
    "from skyfield.api import load\n",
    "from skyfield import units\n",
    "from astropy.time import Time\n",
    "\n",
    "# Create a timescale and initialise beginning and end time.\n",
    "ts = load.timescale()\n",
    "t0 = Time('2011-08-18T10:00:00',scale ='utc')\n",
    "t0= ts.from_astropy(t0)\n",
    "print(t0.utc_jpl())\n",
    "t1= ts.utc(2013)\n",
    "\n",
    "# Load the JPL ephemeris DE421 (covers 1900-2050).\n",
    "planets = load('de421.bsp')\n",
    "venus = planets['venus']\n",
    "sun = planets['sun']\n",
    "\n",
    "# print(planets)\n",
    "# print(venus)\n"
   ]
  },
  {
   "cell_type": "code",
   "execution_count": 30,
   "metadata": {},
   "outputs": [
    {
     "name": "stdout",
     "output_type": "stream",
     "text": [
      "09h 59m 15.86s\n",
      "+15deg 40' 26.7\"\n",
      "0.72137 au\n",
      "<Barycentric BCRS position and velocity at date t center=0 target=299>\n"
     ]
    }
   ],
   "source": [
    "# The position of Venus, viewed from BCRS\n",
    "venus_pos = venus.at(t0)\n",
    "ra, dec, distance = venus_pos.radec() \n",
    "\n",
    "print(ra)\n",
    "print(dec)\n",
    "print(distance)\n",
    "print(venus_pos)\n"
   ]
  },
  {
   "cell_type": "code",
   "execution_count": 31,
   "metadata": {},
   "outputs": [
    {
     "name": "stdout",
     "output_type": "stream",
     "text": [
      "Position of Venus on the 18th august 2011 at 10am :  15.674088161227528 deg 149.81610096113602 deg\n"
     ]
    }
   ],
   "source": [
    "# Let's convert this in degrees\n",
    "\n",
    "import astropy.units as u\n",
    "\n",
    "dec = dec.to(u.deg)\n",
    "ra = ra.to(u.deg)\n",
    "\n",
    "print(\"Position of Venus on the 18th august 2011 at 10am : \",dec, ra)"
   ]
  },
  {
   "attachments": {},
   "cell_type": "markdown",
   "metadata": {},
   "source": [
    "## Let's try the real thing now\n",
    "Ok, now that we know how to compute ephemerides of Venus in degrees in the ICRF, let's try to send a job to ODA to \n",
    "find an image of venus with IBIS. What's INTEGRAL center of coordinate system?-> we'll work with astropy to avoid\n",
    "confusion between date format and coordinate systems.\n",
    "\n",
    "We know that IBIS has quite a large FoV so that serendipitous observations of Venus is possible. \n",
    "The goal now is to try find a moment when IBIS was observing a portion of the sky where Venus was.\n",
    "\n",
    "Fully-coded IBIS FoV: 8.3°x8°. Down to zero: 29.1°x29.4°. What's the portion of the sky that this covers ? \n",
    "Whole sky is about 41'000 $deg^2$ so the FoV covers between 66.4 and 855.5 square degrees. \n",
    "The last number is quite elevated. Chances to find Venus are actually high I think.\n",
    "\n",
    "What's Venus's apparent size in the sky on average ? Do we want to compute a probability of finding it ?\n",
    "As in the 2001 paper, what could be interesting would be to find when Venus was close to its maximum elongation so that we have less \n",
    "pollution from the Sun.\n"
   ]
  },
  {
   "attachments": {},
   "cell_type": "markdown",
   "metadata": {},
   "source": [
    "## Finding Venus' max elongation."
   ]
  },
  {
   "cell_type": "code",
   "execution_count": 80,
   "metadata": {},
   "outputs": [
    {
     "name": "stdout",
     "output_type": "stream",
     "text": [
      "2006-03-25 06:44:51 UTC  46.5° west elongation\n",
      "2007-06-09 02:45:09 UTC  45.4° east elongation\n",
      "2007-10-28 15:05:20 UTC  46.5° west elongation\n",
      "2009-01-14 21:23:37 UTC  47.1° east elongation\n",
      "2009-06-05 20:50:55 UTC  45.9° west elongation\n",
      "2010-08-20 03:48:19 UTC  46.0° east elongation\n",
      "2011-01-08 16:01:38 UTC  47.0° west elongation\n",
      "2012-03-27 07:44:19 UTC  46.0° east elongation\n",
      "2012-08-15 09:06:35 UTC  45.8° west elongation\n",
      "2013-11-01 07:58:41 UTC  47.1° east elongation\n",
      "2014-03-22 19:31:28 UTC  46.6° west elongation\n",
      "2015-06-06 18:29:24 UTC  45.4° east elongation\n",
      "2015-10-26 07:11:11 UTC  46.4° west elongation\n",
      "2017-01-12 13:18:27 UTC  47.1° east elongation\n",
      "2017-06-03 12:29:48 UTC  45.9° west elongation\n",
      "2018-08-17 17:31:17 UTC  45.9° east elongation\n",
      "2019-01-06 04:53:35 UTC  47.0° west elongation\n"
     ]
    }
   ],
   "source": [
    "from skyfield.api import load\n",
    "from skyfield.framelib import ecliptic_frame\n",
    "from skyfield.searchlib import find_maxima\n",
    "import astropy.units as u\n",
    "from astropy.time import Time\n",
    "from astropy.coordinates import SkyCoord\n",
    "\n",
    "ts = load.timescale()\n",
    "t0 = ts.from_astropy(Time('2006-01-01T00:00:00',scale ='utc'))\n",
    "t1 = ts.from_astropy(Time('2019-12-31T00:00:00',scale ='utc'))\n",
    "\n",
    "eph = load('de421.bsp')\n",
    "sun, earth, venus = eph['sun'], eph['earth'], eph['venus']\n",
    "\n",
    "def elongation_at(t):\n",
    "    e = earth.at(t)\n",
    "    s = e.observe(sun).apparent()\n",
    "    v = e.observe(venus).apparent()\n",
    "    return s.separation_from(v).degrees\n",
    "\n",
    "elongation_at.step_days = 15.0\n",
    "\n",
    "times, elongations = find_maxima(t0, t1, elongation_at)\n",
    "\n",
    "for t, elongation_degrees in zip(times, elongations):\n",
    "    e = earth.at(t)\n",
    "    _, slon, _ = e.observe(sun).apparent().frame_latlon(ecliptic_frame)\n",
    "    _, vlon, _ = e.observe(venus).apparent().frame_latlon(ecliptic_frame)\n",
    "    is_east = (vlon.degrees - slon.degrees) % 360.0 < 180.0\n",
    "    direction = 'east' if is_east else 'west'\n",
    "    print('{}  {:4.1f}° {} elongation'.format(\n",
    "        t.utc_strftime(), elongation_degrees, direction))"
   ]
  },
  {
   "attachments": {},
   "cell_type": "markdown",
   "metadata": {},
   "source": [
    "Let's compute the positions for all these 17 maximum elongations."
   ]
  },
  {
   "cell_type": "code",
   "execution_count": 81,
   "metadata": {},
   "outputs": [
    {
     "name": "stdout",
     "output_type": "stream",
     "text": [
      "Position of Venus on the 2006-03-25 06:44:51 UTC for a 46.5° west elongation: RA: 225.37855 deg, Dec: -15.41292 deg\n",
      "Position of Venus on the 2007-06-09 02:45:09 UTC for a 45.4° east elongation: RA: 211.90738 deg, Dec: -10.43616 deg\n",
      "Position of Venus on the 2007-10-28 15:05:20 UTC for a 46.5° west elongation: RA: 77.90187 deg, Dec: 23.09685 deg\n",
      "Position of Venus on the 2009-01-14 21:23:37 UTC for a 47.1° east elongation: RA: 69.33370 deg, Dec: 21.71622 deg\n",
      "Position of Venus on the 2009-06-05 20:50:55 UTC for a 45.9° west elongation: RA: 301.41201 deg, Dec: -22.65306 deg\n",
      "Position of Venus on the 2010-08-20 03:48:19 UTC for a 46.0° east elongation: RA: 285.53305 deg, Dec: -24.26791 deg\n",
      "Position of Venus on the 2011-01-08 16:01:38 UTC for a 47.0° west elongation: RA: 154.39273 deg, Dec: 14.09857 deg\n",
      "Position of Venus on the 2012-03-27 07:44:19 UTC for a 46.0° east elongation: RA: 145.37028 deg, Dec: 17.09323 deg\n",
      "Position of Venus on the 2012-08-15 09:06:35 UTC for a 45.8° west elongation: RA: 7.55351 deg, Dec: -0.21560 deg\n",
      "Position of Venus on the 2013-11-01 07:58:41 UTC for a 47.1° east elongation: RA: 358.17777 deg, Dec: -4.43605 deg\n",
      "Position of Venus on the 2014-03-22 19:31:28 UTC for a 46.6° west elongation: RA: 223.03893 deg, Dec: -14.61794 deg\n",
      "Position of Venus on the 2015-06-06 18:29:24 UTC for a 45.4° east elongation: RA: 210.07156 deg, Dec: -9.68303 deg\n",
      "Position of Venus on the 2015-10-26 07:11:11 UTC for a 46.4° west elongation: RA: 75.08835 deg, Dec: 22.71264 deg\n",
      "Position of Venus on the 2017-01-12 13:18:27 UTC for a 47.1° east elongation: RA: 66.44900 deg, Dec: 21.16407 deg\n",
      "Position of Venus on the 2017-06-03 12:29:48 UTC for a 45.9° west elongation: RA: 299.39745 deg, Dec: -22.93540 deg\n",
      "Position of Venus on the 2018-08-17 17:31:17 UTC for a 45.9° east elongation: RA: 283.33086 deg, Dec: -24.35561 deg\n",
      "Position of Venus on the 2019-01-06 04:53:35 UTC for a 47.0° west elongation: RA: 151.34294 deg, Dec: 15.16210 deg\n"
     ]
    }
   ],
   "source": [
    "venus_pos=venus.at(times)\n",
    "ra, dec, distance = venus_pos.radec() \n",
    "dec = dec.to(u.deg)\n",
    "ra = ra.to(u.deg)\n",
    "is_east=-1\n",
    "for dec_obj, ra_obj,t,elongation_degrees in zip(dec, ra,times,elongations):\n",
    "    is_east=(is_east+1)%2\n",
    "    direction = 'east' if is_east else 'west'\n",
    "    print('Position of Venus on the {} for a {:4.1f}° {} elongation: RA: {:4.5f}, Dec: {:4.5f}'.format(t.utc_strftime(), elongation_degrees, direction, ra_obj,dec_obj))"
   ]
  },
  {
   "attachments": {},
   "cell_type": "markdown",
   "metadata": {},
   "source": [
    "Now we try to find scw for these position and dates. I'll try with the web interface first. What should I put in source name ?\n",
    "We'll first try with 2012-03-27 07:44:19 UTC and position RA: 145.37028 deg, Dec: 17.09323 deg."
   ]
  },
  {
   "cell_type": "code",
   "execution_count": 90,
   "metadata": {},
   "outputs": [
    {
     "name": "stdout",
     "output_type": "stream",
     "text": [
      "   Mission            Table                         Table Description               \n",
      "------------- ---------------------- -----------------------------------------------\n",
      "CTASST1M-REV1     cta_sst1m_rev1_run                                             Run\n",
      "    FACT-REV1          fact_rev1_run                                             Run\n",
      "INTEGRAL-REV3     integral_rev3_prop                                       Proposals\n",
      "INTEGRAL-REV3 integral_rev3_prop_obs Proposal Information and Observation Parameters\n",
      "INTEGRAL-REV3      integral_rev3_scw                       SCW - Science Window Data\n",
      "145.3702781997043 deg 17.09322558279773 deg 2012-03-27 07:44:19 UTC 2012-03-27T07:44:19Z <Time tt=2456013.823212227> <SkyCoord (ICRS): (ra, dec) in deg\n",
      "    (145.3702782, 17.09322558)>\n"
     ]
    }
   ],
   "source": [
    "import astroquery.heasarc\n",
    "from astroquery.heasarc import Heasarc, Conf\n",
    "import json\n",
    "import os\n",
    "import shutil\n",
    "import random\n",
    "from astropy.io import fits\n",
    "from scipy import stats\n",
    "\n",
    "Heasarc = astroquery.heasarc.Heasarc()\n",
    "Conf.server.set('https://www.isdc.unige.ch/browse/w3query.pl')\n",
    "table = Heasarc.query_mission_list()\n",
    "table.pprint(max_width=120)\n",
    "\n",
    "def get_scw_list(ra_obj, dec_obj,radius,start_date,end_date ):\n",
    "    R = Heasarc.query_region(\n",
    "            position = SkyCoord(ra_obj, dec_obj, unit='deg'),\n",
    "            radius = f\"{radius} deg\",\n",
    "            mission = 'integral_rev3_scw',\n",
    "            time = start_date + \" .. \" + end_date,\n",
    "            good_isgri = \">1000\",\n",
    "        )\n",
    "\n",
    "    #R.sort('SCW_ID')\n",
    "\n",
    "    return R #R['SCW_ID'], R['SCW_VER']\n",
    "\n",
    "assert astroquery.__version__ >= '0.4.2.dev6611'\n",
    "\n",
    "# it means it's our fork\n",
    "assert 'isdc' in astroquery.heasarc.Conf.server.cfgtype\n",
    "\n",
    "radius = 10.\n",
    "ra_test = ra[7]\n",
    "dec_test = dec[7]\n",
    "t_test = times[7]\n",
    "t_in = times[7]\n",
    "coord = SkyCoord(ra_test, dec_test, frame='icrs',unit='deg')\n",
    "print(ra_test, dec_test,t_test.utc_strftime(),t_test.utc_iso(),times[7], coord)"
   ]
  },
  {
   "cell_type": "code",
   "execution_count": 100,
   "metadata": {},
   "outputs": [
    {
     "name": "stdout",
     "output_type": "stream",
     "text": [
      "   SCW_ID    SCW_VER ...                   SEARCH_OFFSET_                 \n",
      "------------ ------- ... -------------------------------------------------\n",
      "122500520021 001     ... 145.216 (145.37028360383465,17.093220361563155)\\n\n",
      "122500520010 001     ... 146.549 (145.37028360383465,17.093220361563155)\\n\n",
      "116900060010 001     ... 147.843 (145.37028360383465,17.093220361563155)\\n\n",
      "116900050041 001     ... 147.856 (145.37028360383465,17.093220361563155)\\n\n",
      "116900050030 001     ... 147.868 (145.37028360383465,17.093220361563155)\\n\n",
      "116900050020 001     ... 147.868 (145.37028360383465,17.093220361563155)\\n\n",
      "116900050010 001     ... 147.889 (145.37028360383465,17.093220361563155)\\n\n",
      "116900040021 001     ... 151.953 (145.37028360383465,17.093220361563155)\\n\n",
      "123700810010 001     ... 153.222 (145.37028360383465,17.093220361563155)\\n\n",
      "123700810021 001     ... 153.535 (145.37028360383465,17.093220361563155)\\n\n",
      "         ...     ... ...                                               ...\n",
      "122500530010 001     ... 153.883 (145.37028360383465,17.093220361563155)\\n\n",
      "123700830010 001     ... 153.989 (145.37028360383465,17.093220361563155)\\n\n",
      "123700820010 001     ... 153.996 (145.37028360383465,17.093220361563155)\\n\n",
      "123700820020 001     ... 153.996 (145.37028360383465,17.093220361563155)\\n\n",
      "123700820030 001     ... 153.996 (145.37028360383465,17.093220361563155)\\n\n",
      "123700820041 001     ... 154.015 (145.37028360383465,17.093220361563155)\\n\n",
      "116900040010 001     ... 154.072 (145.37028360383465,17.093220361563155)\\n\n",
      "115900010010 001     ... 568.138 (145.37028360383465,17.093220361563155)\\n\n",
      "115900010021 001     ... 584.328 (145.37028360383465,17.093220361563155)\\n\n",
      "115900020010 001     ... 597.725 (145.37028360383465,17.093220361563155)\\n\n",
      "123300610031 001     ... 641.229 (145.37028360383465,17.093220361563155)\\n\n",
      "Length = 26 rows\n"
     ]
    }
   ],
   "source": [
    "table = Heasarc.query_region(coord, mission = 'integral_rev3_scw', radius='15 degree', time = '2012-01-01T00:30:00 .. 2012-12-31T07:50:00')\n",
    "#scwlist,version = get_scw_list(ra_test,dec_test, radius, '2012-03-27T07:30:00', '2012-03-27T07:50:00')\n",
    "print(table)"
   ]
  }
 ],
 "metadata": {
  "kernelspec": {
   "display_name": "spacetech_env",
   "language": "python",
   "name": "python3"
  },
  "language_info": {
   "codemirror_mode": {
    "name": "ipython",
    "version": 3
   },
   "file_extension": ".py",
   "mimetype": "text/x-python",
   "name": "python",
   "nbconvert_exporter": "python",
   "pygments_lexer": "ipython3",
   "version": "3.11.0"
  },
  "orig_nbformat": 4,
  "vscode": {
   "interpreter": {
    "hash": "e8f5878e42daedcbdd39a84cefee199a00c4b7d02e3211bdbff4b5f56253d835"
   }
  }
 },
 "nbformat": 4,
 "nbformat_minor": 2
}
