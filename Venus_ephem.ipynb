{
 "cells": [
  {
   "attachments": {},
   "cell_type": "markdown",
   "metadata": {},
   "source": [
    "### Let's try finding Venus' ephemerides in the ICRF coordinate system."
   ]
  },
  {
   "cell_type": "code",
   "execution_count": 24,
   "metadata": {},
   "outputs": [],
   "source": [
    "from skyfield.api import load\n",
    "from skyfield import units\n",
    "\n",
    "# Create a timescale and initialise beginning and end time.\n",
    "ts = load.timescale()\n",
    "t0= ts.utc(2011,8,18,10,0,0)\n",
    "t1= ts.utc(2013)\n",
    "\n",
    "# Load the JPL ephemeris DE421 (covers 1900-2050).\n",
    "planets = load('de421.bsp')\n",
    "venus = planets['venus']\n",
    "sun = planets['sun']\n",
    "\n",
    "# print(planets)\n",
    "# print(venus)\n"
   ]
  },
  {
   "cell_type": "code",
   "execution_count": 25,
   "metadata": {},
   "outputs": [
    {
     "name": "stdout",
     "output_type": "stream",
     "text": [
      "09h 59m 15.86s\n",
      "+15deg 40' 26.7\"\n",
      "0.72137 au\n",
      "<Barycentric BCRS position and velocity at date t center=0 target=299>\n"
     ]
    }
   ],
   "source": [
    "# The position of Venus, viewed from BCRS\n",
    "venus_pos = venus.at(t0)\n",
    "ra, dec, distance = venus_pos.radec() \n",
    "\n",
    "print(ra)\n",
    "print(dec)\n",
    "print(distance)\n",
    "print(venus_pos)\n"
   ]
  },
  {
   "cell_type": "code",
   "execution_count": 27,
   "metadata": {},
   "outputs": [
    {
     "name": "stdout",
     "output_type": "stream",
     "text": [
      "Position of Venus on the 18th august 2011 at 10am :  15.674088161331355 deg 149.81610096082233 deg\n"
     ]
    }
   ],
   "source": [
    "# Let's convert this in degrees\n",
    "\n",
    "import astropy.units as u\n",
    "\n",
    "dec = dec.to(u.deg)\n",
    "ra = ra.to(u.deg)\n",
    "\n",
    "print(\"Position of Venus on the 18th august 2011 at 10am : \",dec, ra)"
   ]
  },
  {
   "attachments": {},
   "cell_type": "markdown",
   "metadata": {},
   "source": [
    "Ok, now that we know how to compute ephemerides of Venus in degrees in the ICRF, let's try to send a job to ODA to \n",
    "find an image of venus with IBIS. What's INTEGRAL center of coordinate system?\n",
    "\n",
    "We know that IBIS has quite a large FoV so that serendipitous observations of Venus is possible. \n",
    "The goal now is to try find a moment when IBIS was observing a portion of the sky where Venus was.\n",
    "\n",
    "Fully-coded IBIS FoV: 8.3°x8°. Down to zero: 29.1°x29.4°. What's the portion of the sky that this covers ? \n",
    "Whole sky is about 41'000 $deg^2$ so the FoV covers between 66.4 and 855.5 square degrees. \n",
    "The last number is quite elevated. Chances to find Venus are actually high I think.\n",
    "\n",
    "What's Venus's apparent size in the sky on average ? Do we want to compute a probability of finding it ?\n",
    "As in the 2001 paper, what could be interesting would be to find when Venus was close to its maximum elongation so that we have less \n",
    "pollution from the Sun.\n"
   ]
  },
  {
   "cell_type": "markdown",
   "metadata": {},
   "source": []
  }
 ],
 "metadata": {
  "kernelspec": {
   "display_name": "spacetech_env",
   "language": "python",
   "name": "python3"
  },
  "language_info": {
   "codemirror_mode": {
    "name": "ipython",
    "version": 3
   },
   "file_extension": ".py",
   "mimetype": "text/x-python",
   "name": "python",
   "nbconvert_exporter": "python",
   "pygments_lexer": "ipython3",
   "version": "3.11.0"
  },
  "orig_nbformat": 4,
  "vscode": {
   "interpreter": {
    "hash": "e8f5878e42daedcbdd39a84cefee199a00c4b7d02e3211bdbff4b5f56253d835"
   }
  }
 },
 "nbformat": 4,
 "nbformat_minor": 2
}
