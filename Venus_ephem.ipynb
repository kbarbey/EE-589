{
 "cells": [
  {
   "attachments": {},
   "cell_type": "markdown",
   "metadata": {},
   "source": [
    "### Let's try finding Venus' ephemerides in the ICRF coordinate system."
   ]
  },
  {
   "attachments": {},
   "cell_type": "markdown",
   "metadata": {},
   "source": [
    "Small test here:"
   ]
  },
  {
   "cell_type": "code",
   "execution_count": 29,
   "metadata": {},
   "outputs": [
    {
     "name": "stdout",
     "output_type": "stream",
     "text": [
      "A.D. 2011-Aug-18 10:00:00.0000 UTC\n"
     ]
    }
   ],
   "source": [
    "from skyfield.api import load\n",
    "from skyfield import units\n",
    "from astropy.time import Time\n",
    "\n",
    "# Create a timescale and initialise beginning and end time.\n",
    "ts = load.timescale()\n",
    "t0 = Time('2011-08-18T10:00:00',scale ='utc')\n",
    "t0= ts.from_astropy(t0)\n",
    "print(t0.utc_jpl())\n",
    "t1= ts.utc(2013)\n",
    "\n",
    "# Load the JPL ephemeris DE421 (covers 1900-2050).\n",
    "planets = load('de421.bsp')\n",
    "venus = planets['venus']\n",
    "sun = planets['sun']\n",
    "\n",
    "# print(planets)\n",
    "# print(venus)\n"
   ]
  },
  {
   "cell_type": "code",
   "execution_count": 30,
   "metadata": {},
   "outputs": [
    {
     "name": "stdout",
     "output_type": "stream",
     "text": [
      "09h 59m 15.86s\n",
      "+15deg 40' 26.7\"\n",
      "0.72137 au\n",
      "<Barycentric BCRS position and velocity at date t center=0 target=299>\n"
     ]
    }
   ],
   "source": [
    "# The position of Venus, viewed from BCRS\n",
    "venus_pos = venus.at(t0)\n",
    "ra, dec, distance = venus_pos.radec() \n",
    "\n",
    "print(ra)\n",
    "print(dec)\n",
    "print(distance)\n",
    "print(venus_pos)\n"
   ]
  },
  {
   "cell_type": "code",
   "execution_count": 31,
   "metadata": {},
   "outputs": [
    {
     "name": "stdout",
     "output_type": "stream",
     "text": [
      "Position of Venus on the 18th august 2011 at 10am :  15.674088161227528 deg 149.81610096113602 deg\n"
     ]
    }
   ],
   "source": [
    "# Let's convert this in degrees\n",
    "\n",
    "import astropy.units as u\n",
    "\n",
    "dec = dec.to(u.deg)\n",
    "ra = ra.to(u.deg)\n",
    "\n",
    "print(\"Position of Venus on the 18th august 2011 at 10am : \",dec, ra)"
   ]
  },
  {
   "attachments": {},
   "cell_type": "markdown",
   "metadata": {},
   "source": [
    "## Let's try the real thing now\n",
    "Ok, now that we know how to compute ephemerides of Venus in degrees in the ICRF, let's try to send a job to ODA to \n",
    "find an image of venus with IBIS. What's INTEGRAL center of coordinate system?-> we'll work with astropy to avoid\n",
    "confusion between date format and coordinate systems.\n",
    "\n",
    "We know that IBIS has quite a large FoV so that serendipitous observations of Venus is possible. \n",
    "The goal now is to try find a moment when IBIS was observing a portion of the sky where Venus was.\n",
    "\n",
    "Fully-coded IBIS FoV: 8.3°x8°. Down to zero: 29.1°x29.4°. What's the portion of the sky that this covers ? \n",
    "Whole sky is about 41'000 $deg^2$ so the FoV covers between 66.4 and 855.5 square degrees. \n",
    "The last number is quite elevated. Chances to find Venus are actually high I think.\n",
    "\n",
    "What's Venus's apparent size in the sky on average ? Do we want to compute a probability of finding it ?\n",
    "As in the 2001 paper, what could be interesting would be to find when Venus was close to its maximum elongation so that we have less \n",
    "pollution from the Sun.\n"
   ]
  },
  {
   "attachments": {},
   "cell_type": "markdown",
   "metadata": {},
   "source": [
    "## Finding Venus' max elongation."
   ]
  },
  {
   "cell_type": "code",
   "execution_count": 80,
   "metadata": {},
   "outputs": [
    {
     "name": "stdout",
     "output_type": "stream",
     "text": [
      "2006-03-25 06:44:51 UTC  46.5° west elongation\n",
      "2007-06-09 02:45:09 UTC  45.4° east elongation\n",
      "2007-10-28 15:05:20 UTC  46.5° west elongation\n",
      "2009-01-14 21:23:37 UTC  47.1° east elongation\n",
      "2009-06-05 20:50:55 UTC  45.9° west elongation\n",
      "2010-08-20 03:48:19 UTC  46.0° east elongation\n",
      "2011-01-08 16:01:38 UTC  47.0° west elongation\n",
      "2012-03-27 07:44:19 UTC  46.0° east elongation\n",
      "2012-08-15 09:06:35 UTC  45.8° west elongation\n",
      "2013-11-01 07:58:41 UTC  47.1° east elongation\n",
      "2014-03-22 19:31:28 UTC  46.6° west elongation\n",
      "2015-06-06 18:29:24 UTC  45.4° east elongation\n",
      "2015-10-26 07:11:11 UTC  46.4° west elongation\n",
      "2017-01-12 13:18:27 UTC  47.1° east elongation\n",
      "2017-06-03 12:29:48 UTC  45.9° west elongation\n",
      "2018-08-17 17:31:17 UTC  45.9° east elongation\n",
      "2019-01-06 04:53:35 UTC  47.0° west elongation\n"
     ]
    }
   ],
   "source": [
    "from skyfield.api import load\n",
    "from skyfield.framelib import ecliptic_frame\n",
    "from skyfield.searchlib import find_maxima\n",
    "import astropy.units as u\n",
    "from astropy.time import Time\n",
    "from astropy.coordinates import SkyCoord\n",
    "\n",
    "ts = load.timescale()\n",
    "t0 = ts.from_astropy(Time('2006-01-01T00:00:00',scale ='utc'))\n",
    "t1 = ts.from_astropy(Time('2019-12-31T00:00:00',scale ='utc'))\n",
    "\n",
    "eph = load('de421.bsp')\n",
    "sun, earth, venus = eph['sun'], eph['earth'], eph['venus']\n",
    "\n",
    "def elongation_at(t):\n",
    "    e = earth.at(t)\n",
    "    s = e.observe(sun).apparent()\n",
    "    v = e.observe(venus).apparent()\n",
    "    return s.separation_from(v).degrees\n",
    "\n",
    "elongation_at.step_days = 15.0\n",
    "\n",
    "times, elongations = find_maxima(t0, t1, elongation_at)\n",
    "\n",
    "for t, elongation_degrees in zip(times, elongations):\n",
    "    e = earth.at(t)\n",
    "    _, slon, _ = e.observe(sun).apparent().frame_latlon(ecliptic_frame)\n",
    "    _, vlon, _ = e.observe(venus).apparent().frame_latlon(ecliptic_frame)\n",
    "    is_east = (vlon.degrees - slon.degrees) % 360.0 < 180.0\n",
    "    direction = 'east' if is_east else 'west'\n",
    "    print('{}  {:4.1f}° {} elongation'.format(\n",
    "        t.utc_strftime(), elongation_degrees, direction))"
   ]
  },
  {
   "attachments": {},
   "cell_type": "markdown",
   "metadata": {},
   "source": [
    "Let's compute the positions for all these 17 maximum elongations."
   ]
  },
  {
   "cell_type": "code",
   "execution_count": 81,
   "metadata": {},
   "outputs": [
    {
     "name": "stdout",
     "output_type": "stream",
     "text": [
      "Position of Venus on the 2006-03-25 06:44:51 UTC for a 46.5° west elongation: RA: 225.37855 deg, Dec: -15.41292 deg\n",
      "Position of Venus on the 2007-06-09 02:45:09 UTC for a 45.4° east elongation: RA: 211.90738 deg, Dec: -10.43616 deg\n",
      "Position of Venus on the 2007-10-28 15:05:20 UTC for a 46.5° west elongation: RA: 77.90187 deg, Dec: 23.09685 deg\n",
      "Position of Venus on the 2009-01-14 21:23:37 UTC for a 47.1° east elongation: RA: 69.33370 deg, Dec: 21.71622 deg\n",
      "Position of Venus on the 2009-06-05 20:50:55 UTC for a 45.9° west elongation: RA: 301.41201 deg, Dec: -22.65306 deg\n",
      "Position of Venus on the 2010-08-20 03:48:19 UTC for a 46.0° east elongation: RA: 285.53305 deg, Dec: -24.26791 deg\n",
      "Position of Venus on the 2011-01-08 16:01:38 UTC for a 47.0° west elongation: RA: 154.39273 deg, Dec: 14.09857 deg\n",
      "Position of Venus on the 2012-03-27 07:44:19 UTC for a 46.0° east elongation: RA: 145.37028 deg, Dec: 17.09323 deg\n",
      "Position of Venus on the 2012-08-15 09:06:35 UTC for a 45.8° west elongation: RA: 7.55351 deg, Dec: -0.21560 deg\n",
      "Position of Venus on the 2013-11-01 07:58:41 UTC for a 47.1° east elongation: RA: 358.17777 deg, Dec: -4.43605 deg\n",
      "Position of Venus on the 2014-03-22 19:31:28 UTC for a 46.6° west elongation: RA: 223.03893 deg, Dec: -14.61794 deg\n",
      "Position of Venus on the 2015-06-06 18:29:24 UTC for a 45.4° east elongation: RA: 210.07156 deg, Dec: -9.68303 deg\n",
      "Position of Venus on the 2015-10-26 07:11:11 UTC for a 46.4° west elongation: RA: 75.08835 deg, Dec: 22.71264 deg\n",
      "Position of Venus on the 2017-01-12 13:18:27 UTC for a 47.1° east elongation: RA: 66.44900 deg, Dec: 21.16407 deg\n",
      "Position of Venus on the 2017-06-03 12:29:48 UTC for a 45.9° west elongation: RA: 299.39745 deg, Dec: -22.93540 deg\n",
      "Position of Venus on the 2018-08-17 17:31:17 UTC for a 45.9° east elongation: RA: 283.33086 deg, Dec: -24.35561 deg\n",
      "Position of Venus on the 2019-01-06 04:53:35 UTC for a 47.0° west elongation: RA: 151.34294 deg, Dec: 15.16210 deg\n"
     ]
    }
   ],
   "source": [
    "venus_pos=venus.at(times)\n",
    "ra, dec, distance = venus_pos.radec() \n",
    "dec = dec.to(u.deg)\n",
    "ra = ra.to(u.deg)\n",
    "is_east=-1\n",
    "for dec_obj, ra_obj,t,elongation_degrees in zip(dec, ra,times,elongations):\n",
    "    is_east=(is_east+1)%2\n",
    "    direction = 'east' if is_east else 'west'\n",
    "    print('Position of Venus on the {} for a {:4.1f}° {} elongation: RA: {:4.5f}, Dec: {:4.5f}'.format(t.utc_strftime(), elongation_degrees, direction, ra_obj,dec_obj))"
   ]
  },
  {
   "attachments": {},
   "cell_type": "markdown",
   "metadata": {},
   "source": [
    "Now we try to find scw for these position and dates. I'll try with the web interface first. What should I put in source name ?\n",
    "We'll first try with 2012-03-27 07:44:19 UTC and position RA: 145.37028 deg, Dec: 17.09323 deg."
   ]
  },
  {
   "cell_type": "code",
   "execution_count": 82,
   "metadata": {},
   "outputs": [
    {
     "name": "stdout",
     "output_type": "stream",
     "text": [
      "   Mission            Table                         Table Description               \n",
      "------------- ---------------------- -----------------------------------------------\n",
      "CTASST1M-REV1     cta_sst1m_rev1_run                                             Run\n",
      "    FACT-REV1          fact_rev1_run                                             Run\n",
      "INTEGRAL-REV3     integral_rev3_prop                                       Proposals\n",
      "INTEGRAL-REV3 integral_rev3_prop_obs Proposal Information and Observation Parameters\n",
      "INTEGRAL-REV3      integral_rev3_scw                       SCW - Science Window Data\n",
      "145.3702781997043 deg 17.09322558279773 deg 2012-03-27 07:44:19 UTC 2012-03-27T07:44:19Z <Time tt=2456013.823212227>\n"
     ]
    }
   ],
   "source": [
    "import astroquery.heasarc\n",
    "from astroquery.heasarc import Heasarc, Conf\n",
    "import json\n",
    "import os\n",
    "import shutil\n",
    "import random\n",
    "from astropy.io import fits\n",
    "from scipy import stats\n",
    "\n",
    "Heasarc = astroquery.heasarc.Heasarc()\n",
    "Conf.server.set('https://www.isdc.unige.ch/browse/w3query.pl')\n",
    "table = Heasarc.query_mission_list()\n",
    "table.pprint(max_width=120)\n",
    "\n",
    "def get_scw_list(ra_obj, dec_obj,radius,start_date,end_date ):\n",
    "    R = Heasarc.query_region(\n",
    "            position = SkyCoord(ra_obj, dec_obj, unit='deg'),\n",
    "            radius = f\"{radius} deg\",\n",
    "            mission = 'intscw',\n",
    "            time = start_date + \" .. \" + end_date,\n",
    "            good_isgri = \">1000\",\n",
    "        )\n",
    "\n",
    "    R.sort('SCW_ID')\n",
    "\n",
    "    return R['SCW_ID'], R['SCW_VER']\n",
    "\n",
    "assert astroquery.__version__ >= '0.4.2.dev6611'\n",
    "\n",
    "# it means it's our fork\n",
    "assert 'isdc' in astroquery.heasarc.Conf.server.cfgtype\n",
    "\n",
    "radius = 10.\n",
    "ra_test = ra[7]\n",
    "dec_test = dec[7]\n",
    "t_test = times[7]\n",
    "t_in = times[7]\n",
    "print(ra_test, dec_test,t_test.utc_strftime(),t_test.utc_iso(),times[7])"
   ]
  },
  {
   "cell_type": "code",
   "execution_count": 83,
   "metadata": {},
   "outputs": [
    {
     "name": "stderr",
     "output_type": "stream",
     "text": [
      "c:\\Users\\kentb\\miniconda3\\envs\\spacetech_env\\Lib\\site-packages\\astroquery\\utils\\commons.py:181: InputWarning: Coordinate string is being interpreted as an ICRS coordinate provided in degrees.\n",
      "  warnings.warn(\"Coordinate string is being interpreted as an \"\n"
     ]
    },
    {
     "ename": "IORegistryError",
     "evalue": "Format could not be identified based on the file name or contents, please provide a 'format' argument.\nThe available formats are:\n           Format           Read Write Auto-identify Deprecated\n--------------------------- ---- ----- ------------- ----------\n                      ascii  Yes   Yes            No           \n               ascii.aastex  Yes   Yes            No           \n                ascii.basic  Yes   Yes            No           \n                  ascii.cds  Yes    No            No           \n     ascii.commented_header  Yes   Yes            No           \n                  ascii.csv  Yes   Yes           Yes           \n              ascii.daophot  Yes    No            No           \n                 ascii.ecsv  Yes   Yes           Yes           \n           ascii.fast_basic  Yes   Yes            No           \nascii.fast_commented_header  Yes   Yes            No           \n             ascii.fast_csv  Yes   Yes            No           \n       ascii.fast_no_header  Yes   Yes            No           \n             ascii.fast_rdb  Yes   Yes            No           \n             ascii.fast_tab  Yes   Yes            No           \n          ascii.fixed_width  Yes   Yes            No           \nascii.fixed_width_no_header  Yes   Yes            No           \n ascii.fixed_width_two_line  Yes   Yes            No           \n                 ascii.html  Yes   Yes           Yes           \n                 ascii.ipac  Yes   Yes            No           \n                ascii.latex  Yes   Yes           Yes           \n                  ascii.mrt  Yes   Yes            No           \n            ascii.no_header  Yes   Yes            No           \n                  ascii.qdp  Yes   Yes           Yes           \n                  ascii.rdb  Yes   Yes           Yes           \n                  ascii.rst  Yes   Yes            No           \n           ascii.sextractor  Yes    No            No           \n                  ascii.tab  Yes   Yes            No           \n                       asdf  Yes   Yes           Yes           \n                       fits  Yes   Yes           Yes           \n                       hdf5  Yes   Yes           Yes           \n                 pandas.csv  Yes   Yes            No           \n                 pandas.fwf  Yes    No            No           \n                pandas.html  Yes   Yes            No           \n                pandas.json  Yes   Yes            No           \n                    parquet  Yes   Yes           Yes           \n                    votable  Yes   Yes           Yes           \n                     aastex  Yes   Yes            No        Yes\n                        cds  Yes    No            No        Yes\n                        csv  Yes   Yes            No        Yes\n                    daophot  Yes    No            No        Yes\n                       html  Yes   Yes            No        Yes\n                       ipac  Yes   Yes            No        Yes\n                      latex  Yes   Yes            No        Yes\n                        mrt  Yes   Yes            No        Yes\n                        rdb  Yes   Yes            No        Yes",
     "output_type": "error",
     "traceback": [
      "\u001b[1;31m---------------------------------------------------------------------------\u001b[0m",
      "\u001b[1;31mIORegistryError\u001b[0m                           Traceback (most recent call last)",
      "Cell \u001b[1;32mIn[83], line 1\u001b[0m\n\u001b[1;32m----> 1\u001b[0m scwlist,version \u001b[39m=\u001b[39m get_scw_list(ra_test,dec_test, radius, \u001b[39m'\u001b[39;49m\u001b[39m2012-03-20T00:00:00\u001b[39;49m\u001b[39m'\u001b[39;49m, \u001b[39m'\u001b[39;49m\u001b[39m2012-03-30T00:00:00\u001b[39;49m\u001b[39m'\u001b[39;49m)\n",
      "Cell \u001b[1;32mIn[82], line 16\u001b[0m, in \u001b[0;36mget_scw_list\u001b[1;34m(ra_obj, dec_obj, radius, start_date, end_date)\u001b[0m\n\u001b[0;32m     15\u001b[0m \u001b[39mdef\u001b[39;00m \u001b[39mget_scw_list\u001b[39m(ra_obj, dec_obj,radius,start_date,end_date ):\n\u001b[1;32m---> 16\u001b[0m     R \u001b[39m=\u001b[39m Heasarc\u001b[39m.\u001b[39;49mquery_region(\n\u001b[0;32m     17\u001b[0m             position \u001b[39m=\u001b[39;49m SkyCoord(ra_obj, dec_obj, unit\u001b[39m=\u001b[39;49m\u001b[39m'\u001b[39;49m\u001b[39mdeg\u001b[39;49m\u001b[39m'\u001b[39;49m),\n\u001b[0;32m     18\u001b[0m             radius \u001b[39m=\u001b[39;49m \u001b[39mf\u001b[39;49m\u001b[39m\"\u001b[39;49m\u001b[39m{\u001b[39;49;00mradius\u001b[39m}\u001b[39;49;00m\u001b[39m deg\u001b[39;49m\u001b[39m\"\u001b[39;49m,\n\u001b[0;32m     19\u001b[0m             mission \u001b[39m=\u001b[39;49m \u001b[39m'\u001b[39;49m\u001b[39mintscw\u001b[39;49m\u001b[39m'\u001b[39;49m,\n\u001b[0;32m     20\u001b[0m             time \u001b[39m=\u001b[39;49m start_date \u001b[39m+\u001b[39;49m \u001b[39m\"\u001b[39;49m\u001b[39m .. \u001b[39;49m\u001b[39m\"\u001b[39;49m \u001b[39m+\u001b[39;49m end_date,\n\u001b[0;32m     21\u001b[0m             good_isgri \u001b[39m=\u001b[39;49m \u001b[39m\"\u001b[39;49m\u001b[39m>1000\u001b[39;49m\u001b[39m\"\u001b[39;49m,\n\u001b[0;32m     22\u001b[0m         )\n\u001b[0;32m     24\u001b[0m     R\u001b[39m.\u001b[39msort(\u001b[39m'\u001b[39m\u001b[39mSCW_ID\u001b[39m\u001b[39m'\u001b[39m)\n\u001b[0;32m     26\u001b[0m     \u001b[39mreturn\u001b[39;00m R[\u001b[39m'\u001b[39m\u001b[39mSCW_ID\u001b[39m\u001b[39m'\u001b[39m], R[\u001b[39m'\u001b[39m\u001b[39mSCW_VER\u001b[39m\u001b[39m'\u001b[39m]\n",
      "File \u001b[1;32mc:\\Users\\kentb\\miniconda3\\envs\\spacetech_env\\Lib\\site-packages\\astroquery\\utils\\class_or_instance.py:25\u001b[0m, in \u001b[0;36mclass_or_instance.__get__.<locals>.f\u001b[1;34m(*args, **kwds)\u001b[0m\n\u001b[0;32m     23\u001b[0m \u001b[39mdef\u001b[39;00m \u001b[39mf\u001b[39m(\u001b[39m*\u001b[39margs, \u001b[39m*\u001b[39m\u001b[39m*\u001b[39mkwds):\n\u001b[0;32m     24\u001b[0m     \u001b[39mif\u001b[39;00m obj \u001b[39mis\u001b[39;00m \u001b[39mnot\u001b[39;00m \u001b[39mNone\u001b[39;00m:\n\u001b[1;32m---> 25\u001b[0m         \u001b[39mreturn\u001b[39;00m \u001b[39mself\u001b[39;49m\u001b[39m.\u001b[39;49mfn(obj, \u001b[39m*\u001b[39;49margs, \u001b[39m*\u001b[39;49m\u001b[39m*\u001b[39;49mkwds)\n\u001b[0;32m     26\u001b[0m     \u001b[39melse\u001b[39;00m:\n\u001b[0;32m     27\u001b[0m         \u001b[39mreturn\u001b[39;00m \u001b[39mself\u001b[39m\u001b[39m.\u001b[39mfn(\u001b[39mcls\u001b[39m, \u001b[39m*\u001b[39margs, \u001b[39m*\u001b[39m\u001b[39m*\u001b[39mkwds)\n",
      "File \u001b[1;32mc:\\Users\\kentb\\miniconda3\\envs\\spacetech_env\\Lib\\site-packages\\astroquery\\utils\\process_asyncs.py:26\u001b[0m, in \u001b[0;36masync_to_sync.<locals>.create_method.<locals>.newmethod\u001b[1;34m(self, *args, **kwargs)\u001b[0m\n\u001b[0;32m     22\u001b[0m \u001b[39m@class_or_instance\u001b[39m\n\u001b[0;32m     23\u001b[0m \u001b[39mdef\u001b[39;00m \u001b[39mnewmethod\u001b[39m(\u001b[39mself\u001b[39m, \u001b[39m*\u001b[39margs, \u001b[39m*\u001b[39m\u001b[39m*\u001b[39mkwargs):\n\u001b[0;32m     24\u001b[0m     verbose \u001b[39m=\u001b[39m kwargs\u001b[39m.\u001b[39mpop(\u001b[39m'\u001b[39m\u001b[39mverbose\u001b[39m\u001b[39m'\u001b[39m, \u001b[39mFalse\u001b[39;00m)\n\u001b[1;32m---> 26\u001b[0m     response \u001b[39m=\u001b[39m \u001b[39mgetattr\u001b[39;49m(\u001b[39mself\u001b[39;49m, async_method_name)(\u001b[39m*\u001b[39;49margs, \u001b[39m*\u001b[39;49m\u001b[39m*\u001b[39;49mkwargs)\n\u001b[0;32m     27\u001b[0m     \u001b[39mif\u001b[39;00m kwargs\u001b[39m.\u001b[39mget(\u001b[39m'\u001b[39m\u001b[39mget_query_payload\u001b[39m\u001b[39m'\u001b[39m) \u001b[39mor\u001b[39;00m kwargs\u001b[39m.\u001b[39mget(\u001b[39m'\u001b[39m\u001b[39mfield_help\u001b[39m\u001b[39m'\u001b[39m):\n\u001b[0;32m     28\u001b[0m         \u001b[39mreturn\u001b[39;00m response\n",
      "File \u001b[1;32mc:\\Users\\kentb\\miniconda3\\envs\\spacetech_env\\Lib\\site-packages\\astroquery\\heasarc\\core.py:162\u001b[0m, in \u001b[0;36mHeasarcClass.query_region_async\u001b[1;34m(self, position, mission, radius, cache, get_query_payload, **kwargs)\u001b[0m\n\u001b[0;32m    159\u001b[0m kwargs[\u001b[39m'\u001b[39m\u001b[39mequinox\u001b[39m\u001b[39m'\u001b[39m] \u001b[39m=\u001b[39m \u001b[39m2000\u001b[39m\n\u001b[0;32m    161\u001b[0m \u001b[39m# Generate the request\u001b[39;00m\n\u001b[1;32m--> 162\u001b[0m request_payload \u001b[39m=\u001b[39m \u001b[39mself\u001b[39;49m\u001b[39m.\u001b[39;49m_args_to_payload(\n\u001b[0;32m    163\u001b[0m     mission\u001b[39m=\u001b[39;49mmission,\n\u001b[0;32m    164\u001b[0m     entry\u001b[39m=\u001b[39;49m\u001b[39m\"\u001b[39;49m\u001b[39m{}\u001b[39;49;00m\u001b[39m,\u001b[39;49m\u001b[39m{}\u001b[39;49;00m\u001b[39m\"\u001b[39;49m\u001b[39m.\u001b[39;49mformat(c\u001b[39m.\u001b[39;49mra\u001b[39m.\u001b[39;49mdegree, c\u001b[39m.\u001b[39;49mdec\u001b[39m.\u001b[39;49mdegree),\n\u001b[0;32m    165\u001b[0m     radius\u001b[39m=\u001b[39;49mu\u001b[39m.\u001b[39;49mQuantity(radius),\n\u001b[0;32m    166\u001b[0m     \u001b[39m*\u001b[39;49m\u001b[39m*\u001b[39;49mkwargs\n\u001b[0;32m    167\u001b[0m )\n\u001b[0;32m    169\u001b[0m \u001b[39m# Return payload if requested\u001b[39;00m\n\u001b[0;32m    170\u001b[0m \u001b[39mif\u001b[39;00m get_query_payload:\n",
      "File \u001b[1;32mc:\\Users\\kentb\\miniconda3\\envs\\spacetech_env\\Lib\\site-packages\\astroquery\\heasarc\\core.py:369\u001b[0m, in \u001b[0;36mHeasarcClass._args_to_payload\u001b[1;34m(self, **kwargs)\u001b[0m\n\u001b[0;32m    366\u001b[0m     request_payload[\u001b[39m'\u001b[39m\u001b[39mTime\u001b[39m\u001b[39m'\u001b[39m] \u001b[39m=\u001b[39m _time\n\u001b[0;32m    368\u001b[0m \u001b[39mif\u001b[39;00m \u001b[39mlen\u001b[39m(kwargs) \u001b[39m>\u001b[39m \u001b[39m0\u001b[39m:\n\u001b[1;32m--> 369\u001b[0m     mission_fields \u001b[39m=\u001b[39m [k\u001b[39m.\u001b[39mlower() \u001b[39mfor\u001b[39;00m k \u001b[39min\u001b[39;00m \u001b[39mself\u001b[39;49m\u001b[39m.\u001b[39;49mquery_mission_cols(mission\u001b[39m=\u001b[39;49mmission)]\n\u001b[0;32m    371\u001b[0m     \u001b[39mfor\u001b[39;00m k, v \u001b[39min\u001b[39;00m kwargs\u001b[39m.\u001b[39mitems():\n\u001b[0;32m    372\u001b[0m         \u001b[39mif\u001b[39;00m k\u001b[39m.\u001b[39mlower() \u001b[39min\u001b[39;00m mission_fields:\n",
      "File \u001b[1;32mc:\\Users\\kentb\\miniconda3\\envs\\spacetech_env\\Lib\\site-packages\\astroquery\\heasarc\\core.py:99\u001b[0m, in \u001b[0;36mHeasarcClass.query_mission_cols\u001b[1;34m(self, mission, cache, get_query_payload, **kwargs)\u001b[0m\n\u001b[0;32m     96\u001b[0m \u001b[39mif\u001b[39;00m get_query_payload:\n\u001b[0;32m     97\u001b[0m     \u001b[39mreturn\u001b[39;00m response\n\u001b[1;32m---> 99\u001b[0m \u001b[39mreturn\u001b[39;00m \u001b[39mself\u001b[39;49m\u001b[39m.\u001b[39;49m_parse_result(response)\u001b[39m.\u001b[39mcolnames\n",
      "File \u001b[1;32mc:\\Users\\kentb\\miniconda3\\envs\\spacetech_env\\Lib\\site-packages\\astroquery\\heasarc\\core.py:242\u001b[0m, in \u001b[0;36mHeasarcClass._parse_result\u001b[1;34m(self, response, verbose)\u001b[0m\n\u001b[0;32m    240\u001b[0m \u001b[39mtry\u001b[39;00m:\n\u001b[0;32m    241\u001b[0m     data \u001b[39m=\u001b[39m BytesIO(response\u001b[39m.\u001b[39mcontent)\n\u001b[1;32m--> 242\u001b[0m     table \u001b[39m=\u001b[39m Table\u001b[39m.\u001b[39;49mread(data, hdu\u001b[39m=\u001b[39;49m\u001b[39m1\u001b[39;49m)\n\u001b[0;32m    243\u001b[0m     \u001b[39mreturn\u001b[39;00m table\n\u001b[0;32m    244\u001b[0m \u001b[39mexcept\u001b[39;00m \u001b[39mValueError\u001b[39;00m:\n",
      "File \u001b[1;32mc:\\Users\\kentb\\miniconda3\\envs\\spacetech_env\\Lib\\site-packages\\astropy\\table\\connect.py:62\u001b[0m, in \u001b[0;36mTableRead.__call__\u001b[1;34m(self, *args, **kwargs)\u001b[0m\n\u001b[0;32m     59\u001b[0m units \u001b[39m=\u001b[39m kwargs\u001b[39m.\u001b[39mpop(\u001b[39m\"\u001b[39m\u001b[39munits\u001b[39m\u001b[39m\"\u001b[39m, \u001b[39mNone\u001b[39;00m)\n\u001b[0;32m     60\u001b[0m descriptions \u001b[39m=\u001b[39m kwargs\u001b[39m.\u001b[39mpop(\u001b[39m\"\u001b[39m\u001b[39mdescriptions\u001b[39m\u001b[39m\"\u001b[39m, \u001b[39mNone\u001b[39;00m)\n\u001b[1;32m---> 62\u001b[0m out \u001b[39m=\u001b[39m \u001b[39mself\u001b[39;49m\u001b[39m.\u001b[39;49mregistry\u001b[39m.\u001b[39;49mread(\u001b[39mcls\u001b[39;49m, \u001b[39m*\u001b[39;49margs, \u001b[39m*\u001b[39;49m\u001b[39m*\u001b[39;49mkwargs)\n\u001b[0;32m     64\u001b[0m \u001b[39m# For some readers (e.g., ascii.ecsv), the returned `out` class is not\u001b[39;00m\n\u001b[0;32m     65\u001b[0m \u001b[39m# guaranteed to be the same as the desired output `cls`.  If so,\u001b[39;00m\n\u001b[0;32m     66\u001b[0m \u001b[39m# try coercing to desired class without copying (io.registry.read\u001b[39;00m\n\u001b[0;32m     67\u001b[0m \u001b[39m# would normally do a copy).  The normal case here is swapping\u001b[39;00m\n\u001b[0;32m     68\u001b[0m \u001b[39m# Table <=> QTable.\u001b[39;00m\n\u001b[0;32m     69\u001b[0m \u001b[39mif\u001b[39;00m \u001b[39mcls\u001b[39m \u001b[39mis\u001b[39;00m \u001b[39mnot\u001b[39;00m out\u001b[39m.\u001b[39m\u001b[39m__class__\u001b[39m:\n",
      "File \u001b[1;32mc:\\Users\\kentb\\miniconda3\\envs\\spacetech_env\\Lib\\site-packages\\astropy\\io\\registry\\core.py:214\u001b[0m, in \u001b[0;36mUnifiedInputRegistry.read\u001b[1;34m(self, cls, format, cache, *args, **kwargs)\u001b[0m\n\u001b[0;32m    211\u001b[0m             path \u001b[39m=\u001b[39m \u001b[39mNone\u001b[39;00m\n\u001b[0;32m    212\u001b[0m             fileobj \u001b[39m=\u001b[39m args[\u001b[39m0\u001b[39m]\n\u001b[1;32m--> 214\u001b[0m     \u001b[39mformat\u001b[39m \u001b[39m=\u001b[39m \u001b[39mself\u001b[39;49m\u001b[39m.\u001b[39;49m_get_valid_format(\n\u001b[0;32m    215\u001b[0m         \u001b[39m\"\u001b[39;49m\u001b[39mread\u001b[39;49m\u001b[39m\"\u001b[39;49m, \u001b[39mcls\u001b[39;49m, path, fileobj, args, kwargs\n\u001b[0;32m    216\u001b[0m     )\n\u001b[0;32m    218\u001b[0m reader \u001b[39m=\u001b[39m \u001b[39mself\u001b[39m\u001b[39m.\u001b[39mget_reader(\u001b[39mformat\u001b[39m, \u001b[39mcls\u001b[39m)\n\u001b[0;32m    219\u001b[0m data \u001b[39m=\u001b[39m reader(\u001b[39m*\u001b[39margs, \u001b[39m*\u001b[39m\u001b[39m*\u001b[39mkwargs)\n",
      "File \u001b[1;32mc:\\Users\\kentb\\miniconda3\\envs\\spacetech_env\\Lib\\site-packages\\astropy\\io\\registry\\base.py:358\u001b[0m, in \u001b[0;36m_UnifiedIORegistryBase._get_valid_format\u001b[1;34m(self, mode, cls, path, fileobj, args, kwargs)\u001b[0m\n\u001b[0;32m    356\u001b[0m \u001b[39mif\u001b[39;00m \u001b[39mlen\u001b[39m(valid_formats) \u001b[39m==\u001b[39m \u001b[39m0\u001b[39m:\n\u001b[0;32m    357\u001b[0m     format_table_str \u001b[39m=\u001b[39m \u001b[39mself\u001b[39m\u001b[39m.\u001b[39m_get_format_table_str(\u001b[39mcls\u001b[39m, mode\u001b[39m.\u001b[39mcapitalize())\n\u001b[1;32m--> 358\u001b[0m     \u001b[39mraise\u001b[39;00m IORegistryError(\n\u001b[0;32m    359\u001b[0m         \u001b[39m\"\u001b[39m\u001b[39mFormat could not be identified based on the\u001b[39m\u001b[39m\"\u001b[39m\n\u001b[0;32m    360\u001b[0m         \u001b[39m\"\u001b[39m\u001b[39m file name or contents, please provide a\u001b[39m\u001b[39m\"\u001b[39m\n\u001b[0;32m    361\u001b[0m         \u001b[39m\"\u001b[39m\u001b[39m \u001b[39m\u001b[39m'\u001b[39m\u001b[39mformat\u001b[39m\u001b[39m'\u001b[39m\u001b[39m argument.\u001b[39m\u001b[39m\\n\u001b[39;00m\u001b[39m\"\u001b[39m\n\u001b[0;32m    362\u001b[0m         \u001b[39mf\u001b[39m\u001b[39m\"\u001b[39m\u001b[39mThe available formats are:\u001b[39m\u001b[39m\\n\u001b[39;00m\u001b[39m{\u001b[39;00mformat_table_str\u001b[39m}\u001b[39;00m\u001b[39m\"\u001b[39m\n\u001b[0;32m    363\u001b[0m     )\n\u001b[0;32m    364\u001b[0m \u001b[39melif\u001b[39;00m \u001b[39mlen\u001b[39m(valid_formats) \u001b[39m>\u001b[39m \u001b[39m1\u001b[39m:\n\u001b[0;32m    365\u001b[0m     \u001b[39mreturn\u001b[39;00m \u001b[39mself\u001b[39m\u001b[39m.\u001b[39m_get_highest_priority_format(mode, \u001b[39mcls\u001b[39m, valid_formats)\n",
      "\u001b[1;31mIORegistryError\u001b[0m: Format could not be identified based on the file name or contents, please provide a 'format' argument.\nThe available formats are:\n           Format           Read Write Auto-identify Deprecated\n--------------------------- ---- ----- ------------- ----------\n                      ascii  Yes   Yes            No           \n               ascii.aastex  Yes   Yes            No           \n                ascii.basic  Yes   Yes            No           \n                  ascii.cds  Yes    No            No           \n     ascii.commented_header  Yes   Yes            No           \n                  ascii.csv  Yes   Yes           Yes           \n              ascii.daophot  Yes    No            No           \n                 ascii.ecsv  Yes   Yes           Yes           \n           ascii.fast_basic  Yes   Yes            No           \nascii.fast_commented_header  Yes   Yes            No           \n             ascii.fast_csv  Yes   Yes            No           \n       ascii.fast_no_header  Yes   Yes            No           \n             ascii.fast_rdb  Yes   Yes            No           \n             ascii.fast_tab  Yes   Yes            No           \n          ascii.fixed_width  Yes   Yes            No           \nascii.fixed_width_no_header  Yes   Yes            No           \n ascii.fixed_width_two_line  Yes   Yes            No           \n                 ascii.html  Yes   Yes           Yes           \n                 ascii.ipac  Yes   Yes            No           \n                ascii.latex  Yes   Yes           Yes           \n                  ascii.mrt  Yes   Yes            No           \n            ascii.no_header  Yes   Yes            No           \n                  ascii.qdp  Yes   Yes           Yes           \n                  ascii.rdb  Yes   Yes           Yes           \n                  ascii.rst  Yes   Yes            No           \n           ascii.sextractor  Yes    No            No           \n                  ascii.tab  Yes   Yes            No           \n                       asdf  Yes   Yes           Yes           \n                       fits  Yes   Yes           Yes           \n                       hdf5  Yes   Yes           Yes           \n                 pandas.csv  Yes   Yes            No           \n                 pandas.fwf  Yes    No            No           \n                pandas.html  Yes   Yes            No           \n                pandas.json  Yes   Yes            No           \n                    parquet  Yes   Yes           Yes           \n                    votable  Yes   Yes           Yes           \n                     aastex  Yes   Yes            No        Yes\n                        cds  Yes    No            No        Yes\n                        csv  Yes   Yes            No        Yes\n                    daophot  Yes    No            No        Yes\n                       html  Yes   Yes            No        Yes\n                       ipac  Yes   Yes            No        Yes\n                      latex  Yes   Yes            No        Yes\n                        mrt  Yes   Yes            No        Yes\n                        rdb  Yes   Yes            No        Yes"
     ]
    }
   ],
   "source": [
    "scwlist,version = get_scw_list(ra_test,dec_test, radius, '2012-03-20T00:00:00', '2012-03-30T00:00:00')"
   ]
  }
 ],
 "metadata": {
  "kernelspec": {
   "display_name": "spacetech_env",
   "language": "python",
   "name": "python3"
  },
  "language_info": {
   "codemirror_mode": {
    "name": "ipython",
    "version": 3
   },
   "file_extension": ".py",
   "mimetype": "text/x-python",
   "name": "python",
   "nbconvert_exporter": "python",
   "pygments_lexer": "ipython3",
   "version": "3.11.0"
  },
  "orig_nbformat": 4,
  "vscode": {
   "interpreter": {
    "hash": "e8f5878e42daedcbdd39a84cefee199a00c4b7d02e3211bdbff4b5f56253d835"
   }
  }
 },
 "nbformat": 4,
 "nbformat_minor": 2
}
