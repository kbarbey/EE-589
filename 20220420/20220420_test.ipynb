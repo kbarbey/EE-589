{
 "cells": [
  {
   "attachments": {},
   "cell_type": "markdown",
   "metadata": {},
   "source": [
    "# April, May 2022 Events - test\n",
    "\n",
    "We'll try to find a pic of venus during the months of april and may 2022 which seemed to be very active: https://www.spaceweatherlive.com/en/solar-activity/top-50-solar-flares/year/2022.html\n",
    "\n",
    "Events dates : \n",
    "\n",
    "1. 20.04.22\n",
    "2. 30.04.22\n",
    "3. 10.05.22\n",
    "4. 17.04.22\n",
    "5. 21.04.22\n",
    "6. 04.04.22\n",
    "7. 19.05.22\n",
    "8. 02.04.22\n",
    "9. 19.04.22\n",
    "10. 22.04.22"
   ]
  },
  {
   "attachments": {},
   "cell_type": "markdown",
   "metadata": {},
   "source": [
    "First let's find the position of venus in the sky at during this timeline."
   ]
  },
  {
   "cell_type": "code",
   "execution_count": 33,
   "metadata": {},
   "outputs": [],
   "source": [
    "import numpy as np\n",
    "import matplotlib.pyplot as plt"
   ]
  },
  {
   "cell_type": "code",
   "execution_count": 56,
   "metadata": {},
   "outputs": [
    {
     "data": {
      "text/plain": [
       "Text(0.5, 1.0, 'Venus position in the sky between 2022-04-01 and 2022-05-30 in the BCRS frame')"
      ]
     },
     "execution_count": 56,
     "metadata": {},
     "output_type": "execute_result"
    },
    {
     "data": {
      "image/png": "[encoded data removed]",
      "text/plain": [
       "<Figure size 640x480 with 1 Axes>"
      ]
     },
     "metadata": {},
     "output_type": "display_data"
    }
   ],
   "source": [
    "from skyfield.api import load\n",
    "from skyfield import units\n",
    "from astropy.time import Time\n",
    "from astropy import units as u\n",
    "from datetime import timedelta\n",
    "from astropy.coordinates import SkyCoord\n",
    "\n",
    "# Create a timescale and initialise beginning and end time.\n",
    "ts = load.timescale()\n",
    "t = ts.utc(2022, 4, range(1,60,4))\n",
    "\n",
    "# Load the JPL ephemeris DE421 (covers 1900-2050).\n",
    "eph = load('de421.bsp')\n",
    "sun, earth, venus = eph['sun'], eph['earth'], eph['venus']\n",
    "\n",
    "# Compute the position of Venus in the BCRS frame.\n",
    "venus_positions = []\n",
    "venus_times = []\n",
    "plt.figure()\n",
    "for t in t:\n",
    "    venus_pos = venus.at(t)\n",
    "    ra, dec, distance = venus_pos.radec() \n",
    "    dec = dec.to(u.deg)\n",
    "    ra = ra.to(u.deg)\n",
    "    venus_times.append(t)\n",
    "    c = SkyCoord(ra, dec, frame='icrs')\n",
    "    venus_positions.append(c)\n",
    "    plt.scatter(c.ra, c.dec,s=10, c='r', marker='o')   \n",
    "plt.xlabel('RA')\n",
    "plt.ylabel('Dec')\n",
    "plt.title('Venus position in the sky between 2022-04-01 and 2022-05-30 in the ICRS frame')\n"
   ]
  },
  {
   "attachments": {},
   "cell_type": "markdown",
   "metadata": {},
   "source": [
    "Ok now let's try to superimpose this to the scws. We will define a radius of 15° and a query for each day around each position maybe ?\n",
    "It's RA that changes quite a lot per day(~7°) and not Dec. So let's define a radius of 15° around each point and query for it. That should cover everything approximately."
   ]
  },
  {
   "cell_type": "code",
   "execution_count": 79,
   "metadata": {},
   "outputs": [
    {
     "name": "stdout",
     "output_type": "stream",
     "text": [
      "   Mission            Table                         Table Description               \n",
      "------------- ---------------------- -----------------------------------------------\n",
      "CTASST1M-REV1     cta_sst1m_rev1_run                                             Run\n",
      "    FACT-REV1          fact_rev1_run                                             Run\n",
      "INTEGRAL-REV3     integral_rev3_prop                                       Proposals\n",
      "INTEGRAL-REV3 integral_rev3_prop_obs Proposal Information and Observation Parameters\n",
      "INTEGRAL-REV3      integral_rev3_scw                       SCW - Science Window Data\n"
     ]
    },
    {
     "name": "stderr",
     "output_type": "stream",
     "text": [
      "WARNING: InputWarning: Coordinate string is being interpreted as an ICRS coordinate provided in degrees. [astroquery.utils.commons]\n",
      "WARNING: NoResultsWarning: No matching rows were found in the query. [astroquery.heasarc.core]\n",
      "WARNING: InputWarning: Coordinate string is being interpreted as an ICRS coordinate provided in degrees. [astroquery.utils.commons]\n",
      "WARNING: NoResultsWarning: No matching rows were found in the query. [astroquery.heasarc.core]\n",
      "WARNING: InputWarning: Coordinate string is being interpreted as an ICRS coordinate provided in degrees. [astroquery.utils.commons]\n",
      "WARNING: InputWarning: Coordinate string is being interpreted as an ICRS coordinate provided in degrees. [astroquery.utils.commons]\n",
      "WARNING: NoResultsWarning: No matching rows were found in the query. [astroquery.heasarc.core]\n",
      "WARNING: InputWarning: Coordinate string is being interpreted as an ICRS coordinate provided in degrees. [astroquery.utils.commons]\n",
      "WARNING: InputWarning: Coordinate string is being interpreted as an ICRS coordinate provided in degrees. [astroquery.utils.commons]\n",
      "WARNING: NoResultsWarning: No matching rows were found in the query. [astroquery.heasarc.core]\n",
      "WARNING: InputWarning: Coordinate string is being interpreted as an ICRS coordinate provided in degrees. [astroquery.utils.commons]\n",
      "WARNING: InputWarning: Coordinate string is being interpreted as an ICRS coordinate provided in degrees. [astroquery.utils.commons]\n",
      "WARNING: NoResultsWarning: No matching rows were found in the query. [astroquery.heasarc.core]\n",
      "WARNING: InputWarning: Coordinate string is being interpreted as an ICRS coordinate provided in degrees. [astroquery.utils.commons]\n",
      "WARNING: InputWarning: Coordinate string is being interpreted as an ICRS coordinate provided in degrees. [astroquery.utils.commons]\n",
      "WARNING: NoResultsWarning: No matching rows were found in the query. [astroquery.heasarc.core]\n",
      "WARNING: InputWarning: Coordinate string is being interpreted as an ICRS coordinate provided in degrees. [astroquery.utils.commons]\n",
      "WARNING: NoResultsWarning: No matching rows were found in the query. [astroquery.heasarc.core]\n",
      "WARNING: InputWarning: Coordinate string is being interpreted as an ICRS coordinate provided in degrees. [astroquery.utils.commons]\n",
      "WARNING: NoResultsWarning: No matching rows were found in the query. [astroquery.heasarc.core]\n",
      "WARNING: InputWarning: Coordinate string is being interpreted as an ICRS coordinate provided in degrees. [astroquery.utils.commons]\n",
      "WARNING: NoResultsWarning: No matching rows were found in the query. [astroquery.heasarc.core]\n",
      "WARNING: InputWarning: Coordinate string is being interpreted as an ICRS coordinate provided in degrees. [astroquery.utils.commons]\n",
      "WARNING: NoResultsWarning: No matching rows were found in the query. [astroquery.heasarc.core]\n",
      "WARNING: InputWarning: Coordinate string is being interpreted as an ICRS coordinate provided in degrees. [astroquery.utils.commons]\n"
     ]
    }
   ],
   "source": [
    "import astroquery.heasarc\n",
    "from astroquery.heasarc import Heasarc, Conf\n",
    "from astropy.io import fits\n",
    "from scipy import stats\n",
    "\n",
    "Heasarc = astroquery.heasarc.Heasarc()\n",
    "Conf.server.set('https://www.isdc.unige.ch/browse/w3query.pl')\n",
    "table = Heasarc.query_mission_list()\n",
    "table.pprint(max_width=120)\n",
    "\n",
    "def get_scw_list(coord,radius,start_date,end_date ):\n",
    "    R = Heasarc.query_region(\n",
    "            coord,\n",
    "            mission = 'integral_rev3_scw',\n",
    "            radius=radius,\n",
    "            time = start_date + ' .. ' + end_date,\n",
    "            good_isgri = \">1000\",\n",
    "        )\n",
    "\n",
    "\n",
    "    return R\n",
    "def save_scw_list(R,save_path):\n",
    "    R.write(save_path,format ='ascii.csv' ,overwrite=True)\n",
    "\n",
    "assert astroquery.__version__ >= '0.4.2.dev6611'\n",
    "\n",
    "# it means it's our fork\n",
    "assert 'isdc' in astroquery.heasarc.Conf.server.cfgtype\n",
    "\n",
    "radius = '15 degree'\n",
    "for coord,time in zip(venus_positions,venus_times):\n",
    "    delta_time = time + 1\n",
    "    time = time.utc_strftime('%Y-%m-%dT%H:%M:%S')\n",
    "    delta_time = delta_time.utc_strftime('%Y-%m-%dT%H:%M:%S')\n",
    "    table = get_scw_list(coord,radius,time,delta_time)\n",
    "    save_scw_list(table, str(time.replace(':','_') + '.csv'))"
   ]
  },
  {
   "cell_type": "code",
   "execution_count": 73,
   "metadata": {},
   "outputs": [
    {
     "name": "stdout",
     "output_type": "stream",
     "text": [
      "<Table length=6>\n",
      "     name       dtype \n",
      "-------------- -------\n",
      "        SCW_ID bytes12\n",
      "       SCW_VER  bytes7\n",
      "      SCW_TYPE  bytes8\n",
      "          RA_X bytes16\n",
      "         DEC_X bytes17\n",
      "        OBS_ID bytes11\n",
      "      OBS_TYPE  bytes8\n",
      "    START_DATE bytes19\n",
      "      END_DATE bytes19\n",
      "       PI_NAME bytes18\n",
      "            PS  bytes7\n",
      "      GOOD_SPI  bytes8\n",
      "   GOOD_PICSIT bytes11\n",
      "    GOOD_ISGRI bytes10\n",
      "     GOOD_JEMX  bytes9\n",
      "    GOOD_JEMX1 bytes10\n",
      "    GOOD_JEMX2 bytes10\n",
      "      GOOD_OMC  bytes8\n",
      "         DSIZE  bytes9\n",
      "SEARCH_OFFSET_ bytes47\n",
      "\n",
      "['SCW_ID', 'SCW_VER', 'SCW_TYPE', 'RA_X', 'DEC_X', 'OBS_ID', 'OBS_TYPE', 'START_DATE', 'END_DATE', 'PI_NAME', 'PS', 'GOOD_SPI', 'GOOD_PICSIT', 'GOOD_ISGRI', 'GOOD_JEMX', 'GOOD_JEMX1', 'GOOD_JEMX2', 'GOOD_OMC', 'DSIZE', 'SEARCH_OFFSET_']\n",
      "   SCW_ID    SCW_VER ...                  SEARCH_OFFSET_                 \n",
      "------------ ------- ... ------------------------------------------------\n",
      "250700550010 001     ... 539.222 (332.620261171371,-14.770901274090335)\\n\n",
      "250700560010 001     ... 618.808 (332.620261171371,-14.770901274090335)\\n\n",
      "250700540010 001     ... 652.510 (332.620261171371,-14.770901274090335)\\n\n",
      "250700570010 001     ... 713.197 (332.620261171371,-14.770901274090335)\\n\n",
      "250700530010 001     ... 719.877 (332.620261171371,-14.770901274090335)\\n\n",
      "250700580010 001     ... 817.017 (332.620261171371,-14.770901274090335)\\n\n"
     ]
    }
   ],
   "source": [
    "print(table.info)\n",
    "print(table.colnames)\n",
    "print(table)"
   ]
  },
  {
   "cell_type": "code",
   "execution_count": 81,
   "metadata": {},
   "outputs": [
    {
     "name": "stdout",
     "output_type": "stream",
     "text": [
      "<SkyCoord (ICRS): (ra, dec) in deg\n",
      "    (238.17524823, -19.26586264)> 2022-04-01T00:00:00\n",
      "<SkyCoord (ICRS): (ra, dec) in deg\n",
      "    (244.7396939, -20.83256117)> 2022-04-05T00:00:00\n",
      "<SkyCoord (ICRS): (ra, dec) in deg\n",
      "    (251.43010488, -22.14479671)> 2022-04-09T00:00:00\n",
      "<SkyCoord (ICRS): (ra, dec) in deg\n",
      "    (258.23289814, -23.18011345)> 2022-04-13T00:00:00\n",
      "<SkyCoord (ICRS): (ra, dec) in deg\n",
      "    (265.12710544, -23.91971733)> 2022-04-17T00:00:00\n",
      "<SkyCoord (ICRS): (ra, dec) in deg\n",
      "    (272.08530728, -24.34948398)> 2022-04-21T00:00:00\n",
      "<SkyCoord (ICRS): (ra, dec) in deg\n",
      "    (279.07534775, -24.46080713)> 2022-04-25T00:00:00\n",
      "<SkyCoord (ICRS): (ra, dec) in deg\n",
      "    (286.06269, -24.25115609)> 2022-04-29T00:00:00\n",
      "<SkyCoord (ICRS): (ra, dec) in deg\n",
      "    (293.01311542, -23.72424871)> 2022-05-03T00:00:00\n",
      "<SkyCoord (ICRS): (ra, dec) in deg\n",
      "    (299.89537824, -22.88981036)> 2022-05-07T00:00:00\n",
      "<SkyCoord (ICRS): (ra, dec) in deg\n",
      "    (306.68343952, -21.7629625)> 2022-05-11T00:00:00\n",
      "<SkyCoord (ICRS): (ra, dec) in deg\n",
      "    (313.35801447, -20.36334431)> 2022-05-15T00:00:00\n",
      "<SkyCoord (ICRS): (ra, dec) in deg\n",
      "    (319.90733101, -18.71410188)> 2022-05-19T00:00:00\n",
      "<SkyCoord (ICRS): (ra, dec) in deg\n",
      "    (326.32715614, -16.84087772)> 2022-05-23T00:00:00\n",
      "<SkyCoord (ICRS): (ra, dec) in deg\n",
      "    (332.6202558, -14.77090606)> 2022-05-27T00:00:00\n"
     ]
    }
   ],
   "source": [
    "for coord, time in zip(venus_positions, venus_times):\n",
    "    print(coord, time.utc_strftime('%Y-%m-%dT%H:%M:%S'))"
   ]
  },
  {
   "attachments": {},
   "cell_type": "markdown",
   "metadata": {},
   "source": [
    "Let's try to use the image from 25.04.22, the first scw."
   ]
  },
  {
   "cell_type": "code",
   "execution_count": 90,
   "metadata": {},
   "outputs": [
    {
     "data": {
      "text/plain": [
       "{'sub': 'kent.barbey@epfl.ch',\n",
       " 'email': 'kent.barbey@epfl.ch',\n",
       " 'name': 'kbarbey',\n",
       " 'roles': 'authenticated user',\n",
       " 'exp': 1680956762}"
      ]
     },
     "execution_count": 90,
     "metadata": {},
     "output_type": "execute_result"
    }
   ],
   "source": [
    "#Get some login\n",
    "\n",
    "import getpass\n",
    "token = getpass.getpass('insert your token: ')\n",
    "import oda_api.token\n",
    "oda_api.token.decode_oda_token(token)\n"
   ]
  },
  {
   "cell_type": "code",
   "execution_count": 91,
   "metadata": {},
   "outputs": [],
   "source": [
    "import logging\n",
    "#default\n",
    "#logging.getLogger().setLevel(logging.WARNING)\n",
    "#slightly more verbose\n",
    "logging.getLogger().setLevel(logging.INFO)\n",
    "#all messages\n",
    "#logging.getLogger().setLevel(logging.DEBUG)\n",
    "\n",
    "logging.getLogger('oda_api').addHandler(logging.StreamHandler())"
   ]
  },
  {
   "cell_type": "code",
   "execution_count": 93,
   "metadata": {},
   "outputs": [
    {
     "name": "stderr",
     "output_type": "stream",
     "text": [
      "please beware that by default, in a typical setup, oda_api will not output much. To learn how to increase the verbosity, please refer to the documentation: https://oda-api.readthedocs.io/en/latest/user_guide/ScienceWindowList.html?highlight=logging#Let's-get-some-logging . \n",
      "To disable this message you can pass `.get_product(..., silent=True)`\n",
      "- waiting for remote response (since 2023-04-04 14:37:59), please wait for https://www.astro.unige.ch/mmoda/dispatch-data/run_analysis\n",
      "something went quite wrong, and we think it's not likely to recover on its own: Unauthorized (line 90): Unfortunately, your priviledges are not sufficient to make the request for this particular product and parameter combination.\n",
      "- Your priviledge roles include ['authenticated user']\n",
      "- You are lacking all of the following roles:\n",
      " - integral-private-qla: this role is needed to access private INTEGRAL data requested with integral_data_rights == \"all-private\"\n",
      "You can request support if you think you should be able to make this request.\n",
      "Traceback (most recent call last):\n",
      "  File \"c:\\Users\\kentb\\miniconda3\\envs\\spacetech_env\\Lib\\site-packages\\oda_api\\api.py\", line 153, in func_wrapper\n",
      "    return func(*args, **kwargs)\n",
      "           ^^^^^^^^^^^^^^^^^^^^^\n",
      "  File \"c:\\Users\\kentb\\miniconda3\\envs\\spacetech_env\\Lib\\site-packages\\oda_api\\api.py\", line 707, in poll\n",
      "    self.response_json = self.request_to_json()\n",
      "                         ^^^^^^^^^^^^^^^^^^^^^^\n",
      "  File \"c:\\Users\\kentb\\miniconda3\\envs\\spacetech_env\\Lib\\site-packages\\oda_api\\api.py\", line 517, in request_to_json\n",
      "    raise Unauthorized(response_json['exit_status']['message'])\n",
      "oda_api.api.Unauthorized: Unauthorized (line 90): Unfortunately, your priviledges are not sufficient to make the request for this particular product and parameter combination.\n",
      "- Your priviledge roles include ['authenticated user']\n",
      "- You are lacking all of the following roles:\n",
      " - integral-private-qla: this role is needed to access private INTEGRAL data requested with integral_data_rights == \"all-private\"\n",
      "You can request support if you think you should be able to make this request.\n",
      "something went quite wrong, and we think it's not likely to recover on its own: Unauthorized (line 90): Unfortunately, your priviledges are not sufficient to make the request for this particular product and parameter combination.\n",
      "- Your priviledge roles include ['authenticated user']\n",
      "- You are lacking all of the following roles:\n",
      " - integral-private-qla: this role is needed to access private INTEGRAL data requested with integral_data_rights == \"all-private\"\n",
      "You can request support if you think you should be able to make this request.\n",
      "Traceback (most recent call last):\n",
      "  File \"c:\\Users\\kentb\\miniconda3\\envs\\spacetech_env\\Lib\\site-packages\\oda_api\\api.py\", line 153, in func_wrapper\n",
      "    return func(*args, **kwargs)\n",
      "           ^^^^^^^^^^^^^^^^^^^^^\n",
      "  File \"c:\\Users\\kentb\\miniconda3\\envs\\spacetech_env\\Lib\\site-packages\\oda_api\\api.py\", line 811, in request\n",
      "    self.poll()\n",
      "  File \"c:\\Users\\kentb\\miniconda3\\envs\\spacetech_env\\Lib\\site-packages\\oda_api\\api.py\", line 153, in func_wrapper\n",
      "    return func(*args, **kwargs)\n",
      "           ^^^^^^^^^^^^^^^^^^^^^\n",
      "  File \"c:\\Users\\kentb\\miniconda3\\envs\\spacetech_env\\Lib\\site-packages\\oda_api\\api.py\", line 707, in poll\n",
      "    self.response_json = self.request_to_json()\n",
      "                         ^^^^^^^^^^^^^^^^^^^^^^\n",
      "  File \"c:\\Users\\kentb\\miniconda3\\envs\\spacetech_env\\Lib\\site-packages\\oda_api\\api.py\", line 517, in request_to_json\n",
      "    raise Unauthorized(response_json['exit_status']['message'])\n",
      "oda_api.api.Unauthorized: Unauthorized (line 90): Unfortunately, your priviledges are not sufficient to make the request for this particular product and parameter combination.\n",
      "- Your priviledge roles include ['authenticated user']\n",
      "- You are lacking all of the following roles:\n",
      " - integral-private-qla: this role is needed to access private INTEGRAL data requested with integral_data_rights == \"all-private\"\n",
      "You can request support if you think you should be able to make this request.\n"
     ]
    },
    {
     "ename": "Unauthorized",
     "evalue": "Unauthorized (line 90): Unfortunately, your priviledges are not sufficient to make the request for this particular product and parameter combination.\n- Your priviledge roles include ['authenticated user']\n- You are lacking all of the following roles:\n - integral-private-qla: this role is needed to access private INTEGRAL data requested with integral_data_rights == \"all-private\"\nYou can request support if you think you should be able to make this request.",
     "output_type": "error",
     "traceback": [
      "\u001b[1;31m---------------------------------------------------------------------------\u001b[0m",
      "\u001b[1;31mUnauthorized\u001b[0m                              Traceback (most recent call last)",
      "Cell \u001b[1;32mIn[93], line 20\u001b[0m\n\u001b[0;32m      5\u001b[0m disp \u001b[39m=\u001b[39m DispatcherAPI(url\u001b[39m=\u001b[39m\u001b[39m\"\u001b[39m\u001b[39mhttps://www.astro.unige.ch/mmoda/dispatch-data\u001b[39m\u001b[39m\"\u001b[39m, instrument\u001b[39m=\u001b[39m\u001b[39m\"\u001b[39m\u001b[39mmock\u001b[39m\u001b[39m\"\u001b[39m)\n\u001b[0;32m      7\u001b[0m par_dict \u001b[39m=\u001b[39m {\n\u001b[0;32m      8\u001b[0m \u001b[39m\"\u001b[39m\u001b[39mE1_keV\u001b[39m\u001b[39m\"\u001b[39m: \u001b[39m\"\u001b[39m\u001b[39m28\u001b[39m\u001b[39m\"\u001b[39m,\n\u001b[0;32m      9\u001b[0m \u001b[39m\"\u001b[39m\u001b[39mE2_keV\u001b[39m\u001b[39m\"\u001b[39m: \u001b[39m\"\u001b[39m\u001b[39m100\u001b[39m\u001b[39m\"\u001b[39m,\n\u001b[1;32m   (...)\u001b[0m\n\u001b[0;32m     17\u001b[0m \u001b[39m\"\u001b[39m\u001b[39mtoken\u001b[39m\u001b[39m\"\u001b[39m: token\n\u001b[0;32m     18\u001b[0m }\n\u001b[1;32m---> 20\u001b[0m data_collection \u001b[39m=\u001b[39m disp\u001b[39m.\u001b[39;49mget_product(\u001b[39m*\u001b[39;49m\u001b[39m*\u001b[39;49mpar_dict)\n",
      "File \u001b[1;32mc:\\Users\\kentb\\miniconda3\\envs\\spacetech_env\\Lib\\site-packages\\oda_api\\api.py:1052\u001b[0m, in \u001b[0;36mDispatcherAPI.get_product\u001b[1;34m(self, product, instrument, verbose, product_type, silent, **kwargs)\u001b[0m\n\u001b[0;32m   1049\u001b[0m         kwargs[\u001b[39m'\u001b[39m\u001b[39mtoken\u001b[39m\u001b[39m'\u001b[39m] \u001b[39m=\u001b[39m discovered_token\n\u001b[0;32m   1051\u001b[0m         \u001b[39m# >\u001b[39;00m\n\u001b[1;32m-> 1052\u001b[0m \u001b[39mself\u001b[39;49m\u001b[39m.\u001b[39;49mrequest(kwargs)\n\u001b[0;32m   1054\u001b[0m \u001b[39mif\u001b[39;00m \u001b[39mself\u001b[39m\u001b[39m.\u001b[39mis_failed:\n\u001b[0;32m   1055\u001b[0m     \u001b[39mreturn\u001b[39;00m \u001b[39mself\u001b[39m\u001b[39m.\u001b[39mprocess_failure()\n",
      "File \u001b[1;32mc:\\Users\\kentb\\miniconda3\\envs\\spacetech_env\\Lib\\site-packages\\oda_api\\api.py:153\u001b[0m, in \u001b[0;36msafe_run.<locals>.func_wrapper\u001b[1;34m(*args, **kwargs)\u001b[0m\n\u001b[0;32m    151\u001b[0m \u001b[39mwhile\u001b[39;00m \u001b[39mTrue\u001b[39;00m:\n\u001b[0;32m    152\u001b[0m     \u001b[39mtry\u001b[39;00m:\n\u001b[1;32m--> 153\u001b[0m         \u001b[39mreturn\u001b[39;00m func(\u001b[39m*\u001b[39;49margs, \u001b[39m*\u001b[39;49m\u001b[39m*\u001b[39;49mkwargs)\n\u001b[0;32m    154\u001b[0m     \u001b[39mexcept\u001b[39;00m UserError \u001b[39mas\u001b[39;00m e:\n\u001b[0;32m    155\u001b[0m         logger\u001b[39m.\u001b[39mexception(\u001b[39m\"\u001b[39m\u001b[39mprobably an unfortunate user input: \u001b[39m\u001b[39m%s\u001b[39;00m\u001b[39m\"\u001b[39m, e)\n",
      "File \u001b[1;32mc:\\Users\\kentb\\miniconda3\\envs\\spacetech_env\\Lib\\site-packages\\oda_api\\api.py:811\u001b[0m, in \u001b[0;36mDispatcherAPI.request\u001b[1;34m(self, parameters_dict, handle, url, wait, quiet)\u001b[0m\n\u001b[0;32m    808\u001b[0m \u001b[39mself\u001b[39m\u001b[39m.\u001b[39mt0 \u001b[39m=\u001b[39m time\u001b[39m.\u001b[39mtime()\n\u001b[0;32m    810\u001b[0m \u001b[39mwhile\u001b[39;00m \u001b[39mTrue\u001b[39;00m:\n\u001b[1;32m--> 811\u001b[0m     \u001b[39mself\u001b[39;49m\u001b[39m.\u001b[39;49mpoll()\n\u001b[0;32m    813\u001b[0m     \u001b[39mif\u001b[39;00m \u001b[39mnot\u001b[39;00m \u001b[39mself\u001b[39m\u001b[39m.\u001b[39mwait:\n\u001b[0;32m    814\u001b[0m         \u001b[39mself\u001b[39m\u001b[39m.\u001b[39mlogger\u001b[39m.\u001b[39minfo(\u001b[39m\"\u001b[39m\u001b[39mnon-waiting dispatcher: terminating\u001b[39m\u001b[39m\"\u001b[39m)\n",
      "File \u001b[1;32mc:\\Users\\kentb\\miniconda3\\envs\\spacetech_env\\Lib\\site-packages\\oda_api\\api.py:153\u001b[0m, in \u001b[0;36msafe_run.<locals>.func_wrapper\u001b[1;34m(*args, **kwargs)\u001b[0m\n\u001b[0;32m    151\u001b[0m \u001b[39mwhile\u001b[39;00m \u001b[39mTrue\u001b[39;00m:\n\u001b[0;32m    152\u001b[0m     \u001b[39mtry\u001b[39;00m:\n\u001b[1;32m--> 153\u001b[0m         \u001b[39mreturn\u001b[39;00m func(\u001b[39m*\u001b[39;49margs, \u001b[39m*\u001b[39;49m\u001b[39m*\u001b[39;49mkwargs)\n\u001b[0;32m    154\u001b[0m     \u001b[39mexcept\u001b[39;00m UserError \u001b[39mas\u001b[39;00m e:\n\u001b[0;32m    155\u001b[0m         logger\u001b[39m.\u001b[39mexception(\u001b[39m\"\u001b[39m\u001b[39mprobably an unfortunate user input: \u001b[39m\u001b[39m%s\u001b[39;00m\u001b[39m\"\u001b[39m, e)\n",
      "File \u001b[1;32mc:\\Users\\kentb\\miniconda3\\envs\\spacetech_env\\Lib\\site-packages\\oda_api\\api.py:707\u001b[0m, in \u001b[0;36mDispatcherAPI.poll\u001b[1;34m(self, verbose, silent)\u001b[0m\n\u001b[0;32m    703\u001b[0m     \u001b[39mraise\u001b[39;00m UserError(\n\u001b[0;32m    704\u001b[0m         \u001b[39mf\u001b[39m\u001b[39m\"\u001b[39m\u001b[39mcan not poll query before parameters are set with \u001b[39m\u001b[39m{\u001b[39;00m\u001b[39mself\u001b[39m\u001b[39m}\u001b[39;00m\u001b[39m.request\u001b[39m\u001b[39m\"\u001b[39m)\n\u001b[0;32m    706\u001b[0m \u001b[39m# >\u001b[39;00m\n\u001b[1;32m--> 707\u001b[0m \u001b[39mself\u001b[39m\u001b[39m.\u001b[39mresponse_json \u001b[39m=\u001b[39m \u001b[39mself\u001b[39;49m\u001b[39m.\u001b[39;49mrequest_to_json()\n\u001b[0;32m    708\u001b[0m \u001b[39m# <\u001b[39;00m\n\u001b[0;32m    710\u001b[0m logger\u001b[39m.\u001b[39minfo(\u001b[39m\"\u001b[39m\u001b[39msession: \u001b[39m\u001b[39m%s\u001b[39;00m\u001b[39m job: \u001b[39m\u001b[39m%s\u001b[39;00m\u001b[39m\"\u001b[39m, \u001b[39mself\u001b[39m\u001b[39m.\u001b[39mresponse_json[\u001b[39m'\u001b[39m\u001b[39mjob_monitor\u001b[39m\u001b[39m'\u001b[39m][\u001b[39m'\u001b[39m\u001b[39msession_id\u001b[39m\u001b[39m'\u001b[39m],\n\u001b[0;32m    711\u001b[0m             \u001b[39mself\u001b[39m\u001b[39m.\u001b[39mresponse_json[\u001b[39m'\u001b[39m\u001b[39mjob_monitor\u001b[39m\u001b[39m'\u001b[39m][\u001b[39m'\u001b[39m\u001b[39mjob_id\u001b[39m\u001b[39m'\u001b[39m])\n",
      "File \u001b[1;32mc:\\Users\\kentb\\miniconda3\\envs\\spacetech_env\\Lib\\site-packages\\oda_api\\api.py:517\u001b[0m, in \u001b[0;36mDispatcherAPI.request_to_json\u001b[1;34m(self, verbose)\u001b[0m\n\u001b[0;32m    514\u001b[0m     \u001b[39mraise\u001b[39;00m Unauthorized(\u001b[39mf\u001b[39m\u001b[39m\"\u001b[39m\u001b[39mundecodable: \u001b[39m\u001b[39m{\u001b[39;00mresponse\u001b[39m.\u001b[39mtext\u001b[39m}\u001b[39;00m\u001b[39m\"\u001b[39m)\n\u001b[0;32m    516\u001b[0m \u001b[39mtry\u001b[39;00m:\n\u001b[1;32m--> 517\u001b[0m     \u001b[39mraise\u001b[39;00m Unauthorized(response_json[\u001b[39m'\u001b[39m\u001b[39mexit_status\u001b[39m\u001b[39m'\u001b[39m][\u001b[39m'\u001b[39m\u001b[39mmessage\u001b[39m\u001b[39m'\u001b[39m])\n\u001b[0;32m    518\u001b[0m \u001b[39mexcept\u001b[39;00m \u001b[39mKeyError\u001b[39;00m:\n\u001b[0;32m    519\u001b[0m     \u001b[39mraise\u001b[39;00m Unauthorized(response_json[\u001b[39m'\u001b[39m\u001b[39merror\u001b[39m\u001b[39m'\u001b[39m])\n",
      "\u001b[1;31mUnauthorized\u001b[0m: Unauthorized (line 90): Unfortunately, your priviledges are not sufficient to make the request for this particular product and parameter combination.\n- Your priviledge roles include ['authenticated user']\n- You are lacking all of the following roles:\n - integral-private-qla: this role is needed to access private INTEGRAL data requested with integral_data_rights == \"all-private\"\nYou can request support if you think you should be able to make this request."
     ]
    }
   ],
   "source": [
    "scw_pick_test = 249500350010\n",
    "\n",
    "from oda_api.api import DispatcherAPI\n",
    "\n",
    "disp = DispatcherAPI(url=\"https://www.astro.unige.ch/mmoda/dispatch-data\", instrument=\"mock\")\n",
    "\n",
    "par_dict = {\n",
    "\"E1_keV\": \"28\",\n",
    "\"E2_keV\": \"100\",\n",
    "\"detection_threshold\": \"7\",\n",
    "\"instrument\": \"isgri\",\n",
    "\"osa_version\": \"OSA11.2\",\n",
    "\"product\": \"isgri_image\",\n",
    "\"product_type\": \"Real\",\n",
    "\"scw_list\": scw_pick_test,\n",
    "\"integral_data_rights\": \"all-private\",\n",
    "\"token\": token\n",
    "}\n",
    "\n",
    "data_collection = disp.get_product(**par_dict)"
   ]
  }
 ],
 "metadata": {
  "kernelspec": {
   "display_name": "spacetech_env",
   "language": "python",
   "name": "python3"
  },
  "language_info": {
   "codemirror_mode": {
    "name": "ipython",
    "version": 3
   },
   "file_extension": ".py",
   "mimetype": "text/x-python",
   "name": "python",
   "nbconvert_exporter": "python",
   "pygments_lexer": "ipython3",
   "version": "3.11.0"
  },
  "orig_nbformat": 4
 },
 "nbformat": 4,
 "nbformat_minor": 2
}
